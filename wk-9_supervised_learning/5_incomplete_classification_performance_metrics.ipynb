{
 "cells": [
  {
   "cell_type": "markdown",
   "id": "4c96a572-34ca-40d1-8d0b-0c7f1eaf0fbc",
   "metadata": {},
   "source": [
    "### Precision"
   ]
  },
  {
   "cell_type": "code",
   "execution_count": null,
   "id": "89d0f9f8-4ab8-4a05-8e0c-1555d4cf22d5",
   "metadata": {},
   "outputs": [],
   "source": []
  },
  {
   "cell_type": "markdown",
   "id": "813b5f1e-9995-4561-9bfc-e12c77474daf",
   "metadata": {},
   "source": [
    "### Recall"
   ]
  },
  {
   "cell_type": "code",
   "execution_count": null,
   "id": "4caac74d-316f-4676-ac1f-616abe6e3ab5",
   "metadata": {},
   "outputs": [],
   "source": []
  },
  {
   "cell_type": "markdown",
   "id": "c222ec06-77db-4344-a8bf-3076e94048e1",
   "metadata": {},
   "source": [
    "### Specificity"
   ]
  },
  {
   "cell_type": "code",
   "execution_count": null,
   "id": "4f8bd374-c6ae-4bdd-b075-542cd7fd1d80",
   "metadata": {},
   "outputs": [],
   "source": []
  },
  {
   "cell_type": "markdown",
   "id": "c2d42e49-bdc0-44a7-b0b3-baa023e7ff65",
   "metadata": {
    "tags": []
   },
   "source": [
    "### F Score"
   ]
  },
  {
   "cell_type": "code",
   "execution_count": null,
   "id": "a1fe442d-967e-4df7-b044-a2f66985a372",
   "metadata": {},
   "outputs": [],
   "source": []
  },
  {
   "cell_type": "markdown",
   "id": "698b0c7f-c5b2-4819-a321-743e7baddac8",
   "metadata": {},
   "source": [
    "### Cohen's Kappa Coefficient"
   ]
  },
  {
   "cell_type": "code",
   "execution_count": null,
   "id": "671da8c1-f57a-47af-ba3e-a26f25c1ad20",
   "metadata": {},
   "outputs": [],
   "source": []
  },
  {
   "cell_type": "markdown",
   "id": "bba53d0a-8e9e-4fa0-bd3f-c0195f8ca707",
   "metadata": {},
   "source": [
    "### "
   ]
  },
  {
   "cell_type": "code",
   "execution_count": null,
   "id": "cfc3e0ad-9ee0-40c8-8bde-42aee0b52a2c",
   "metadata": {},
   "outputs": [],
   "source": []
  }
 ],
 "metadata": {
  "kernelspec": {
   "display_name": "Python 3 (ipykernel)",
   "language": "python",
   "name": "python3"
  },
  "language_info": {
   "codemirror_mode": {
    "name": "ipython",
    "version": 3
   },
   "file_extension": ".py",
   "mimetype": "text/x-python",
   "name": "python",
   "nbconvert_exporter": "python",
   "pygments_lexer": "ipython3",
   "version": "3.8.8"
  }
 },
 "nbformat": 4,
 "nbformat_minor": 5
}
