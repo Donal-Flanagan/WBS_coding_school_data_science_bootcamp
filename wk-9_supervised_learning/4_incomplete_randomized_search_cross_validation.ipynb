{
 "cells": [
  {
   "cell_type": "code",
   "execution_count": 1,
   "id": "a66d2dd3-3c20-4293-8af8-0ae2d92e970e",
   "metadata": {},
   "outputs": [
    {
     "name": "stderr",
     "output_type": "stream",
     "text": [
      "Intel(R) Extension for Scikit-learn* enabled (https://github.com/intel/scikit-learn-intelex)\n"
     ]
    }
   ],
   "source": [
    "import pandas as pd\n",
    "import numpy as np\n",
    "from sklearnex import patch_sklearn\n",
    "patch_sklearn()\n",
    "import matplotlib.pyplot as plt\n",
    "\n",
    "from sklearn.model_selection import train_test_split\n",
    "from sklearn.tree import DecisionTreeClassifier\n",
    "from sklearn.metrics import accuracy_score, plot_confusion_matrix\n",
    "from sklearn.pipeline import Pipeline\n",
    "from sklearn.impute import SimpleImputer\n",
    "from sklearn.preprocessing import MinMaxScaler, OneHotEncoder\n",
    "from sklearn.compose import ColumnTransformer\n",
    "from sklearn.model_selection import RandomizedSearchCV\n",
    "\n",
    "\n",
    "pd.set_option('display.max_rows', 100)"
   ]
  },
  {
   "cell_type": "markdown",
   "id": "46fa3982-ac7e-4216-a6e8-be6e14fd9c51",
   "metadata": {},
   "source": [
    "### Load the data"
   ]
  },
  {
   "cell_type": "code",
   "execution_count": 2,
   "id": "a0217829-4152-47a0-9124-722120da7f1e",
   "metadata": {},
   "outputs": [],
   "source": [
    "house_data = pd.read_csv(\"../data/Housing_data/housing-classification-iter3.csv\")\n",
    "\n",
    "X = house_data.drop(columns=['Expensive'])\n",
    "y = house_data['Expensive']\n",
    "\n",
    "X_train, X_test, y_train, y_test = train_test_split(X, y, train_size=.8, random_state=8)#, stratify=categoric_features)\n",
    "\n",
    "X_train = pd.DataFrame(X_train, columns=X.columns)\n",
    "X_test = pd.DataFrame(X_test, columns=X.columns)"
   ]
  },
  {
   "cell_type": "markdown",
   "id": "ee2bd4f5-a654-4324-9206-cedae7a4ef03",
   "metadata": {},
   "source": [
    "### Create the scaling/encoding pipelines for categorical and numerical data"
   ]
  },
  {
   "cell_type": "code",
   "execution_count": 3,
   "id": "14c302dc-b58b-4dc1-99b1-8ac742e5ab33",
   "metadata": {},
   "outputs": [],
   "source": [
    "numeric_pipeline = Pipeline(steps=[\n",
    "    ('impute', SimpleImputer(strategy='median')),\n",
    "    ('scale', MinMaxScaler())\n",
    "])\n",
    "categorical_pipeline = Pipeline(steps=[\n",
    "    ('impute', SimpleImputer(strategy='most_frequent')),\n",
    "    ('one-hot', OneHotEncoder(handle_unknown='ignore', sparse=False))\n",
    "])\n",
    "\n",
    "categoric_features = list(X_train.select_dtypes(include=[\"object\"]))\n",
    "numeric_features = list(X_train.select_dtypes(exclude=[\"object\"]))\n",
    "\n",
    "# Apply the scaling pipeline to both categorical and numerical columns\n",
    "full_processor = ColumnTransformer(transformers=[\n",
    "    ('numerical', numeric_pipeline, numeric_features), \n",
    "    ('categorical', categorical_pipeline, categoric_features)\n",
    "])\n",
    "\n",
    "# pd.DataFrame(full_processor.fit_transform(X_train))\n",
    "\n",
    "# Create a pipeline for the full model, including scaling transformations\n",
    "tree_pipeline = Pipeline(steps=[\n",
    "    ('preprocess', full_processor), \n",
    "    ('model', DecisionTreeClassifier())\n",
    "])"
   ]
  },
  {
   "cell_type": "markdown",
   "id": "e25cd184-c19b-4a56-97de-7d9bf9d3f8ae",
   "metadata": {
    "tags": []
   },
   "source": [
    "### Use RandomizedSearchCV to find the best parameters for the model"
   ]
  },
  {
   "cell_type": "code",
   "execution_count": null,
   "id": "fe503673-7f59-4703-9ac8-26682f1f275b",
   "metadata": {
    "tags": []
   },
   "outputs": [
    {
     "name": "stdout",
     "output_type": "stream",
     "text": [
      "Fitting 5 folds for each of 1008 candidates, totalling 5040 fits\n"
     ]
    }
   ],
   "source": [
    "'''\n",
    "NEED TO SWITCH THIS CODE TO RANDOMIZED SEARCH\n",
    "'''\n",
    "\n",
    "# automating the search of the different parameters for our model\n",
    "param_grid = {\n",
    "    'model__max_depth': range(1, 8),\n",
    "    'model__min_samples_leaf': range(1, 10),\n",
    "    'model__min_samples_split': range(2, 10),\n",
    "    'model__criterion':['gini','entropy']\n",
    "    }\n",
    "search = GridSearchCV(tree_pipeline,     # you have defined this beforehand\n",
    "                      param_grid,         # the parameter grid\n",
    "                      cv=5,               # the value for K in K-fold Cross Validation\n",
    "                      scoring='accuracy', # the performance metric to use\n",
    "                      verbose=1, \n",
    "                      refit=True, \n",
    "                      n_jobs=-1)\n",
    "\n",
    "# fit the model to the trainin data\n",
    "_ = search.fit(X_train, y_train)"
   ]
  },
  {
   "cell_type": "code",
   "execution_count": null,
   "id": "11150fc2-cc18-440c-a605-16737dd39fff",
   "metadata": {},
   "outputs": [],
   "source": [
    "search.best_score_"
   ]
  },
  {
   "cell_type": "code",
   "execution_count": null,
   "id": "f177a7bb-8762-4a65-953f-2fb90a2e1f4c",
   "metadata": {},
   "outputs": [],
   "source": [
    "search.best_params_"
   ]
  },
  {
   "cell_type": "code",
   "execution_count": null,
   "id": "2664c43f-0f2a-45ab-85ab-a5d9c380aec9",
   "metadata": {},
   "outputs": [],
   "source": [
    "accuracy_score(search.predict(X_train), y_train)"
   ]
  },
  {
   "cell_type": "code",
   "execution_count": null,
   "id": "a4564491-7485-4c36-8cda-66576e085c98",
   "metadata": {},
   "outputs": [],
   "source": [
    "accuracy_score(search.predict(X_test), y_test)"
   ]
  },
  {
   "cell_type": "code",
   "execution_count": null,
   "id": "ecc3fdab-824f-447b-9ea8-dde35177040f",
   "metadata": {},
   "outputs": [],
   "source": [
    "search.cv_results_"
   ]
  },
  {
   "cell_type": "code",
   "execution_count": null,
   "id": "b5ff5c74-b6e8-42b1-b680-ec8c25c5293b",
   "metadata": {},
   "outputs": [],
   "source": []
  }
 ],
 "metadata": {
  "kernelspec": {
   "display_name": "Python 3 (ipykernel)",
   "language": "python",
   "name": "python3"
  },
  "language_info": {
   "codemirror_mode": {
    "name": "ipython",
    "version": 3
   },
   "file_extension": ".py",
   "mimetype": "text/x-python",
   "name": "python",
   "nbconvert_exporter": "python",
   "pygments_lexer": "ipython3",
   "version": "3.8.8"
  }
 },
 "nbformat": 4,
 "nbformat_minor": 5
}
