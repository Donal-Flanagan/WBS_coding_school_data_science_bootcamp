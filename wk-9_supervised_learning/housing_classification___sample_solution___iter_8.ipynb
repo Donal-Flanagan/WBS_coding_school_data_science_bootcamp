{
 "cells": [
  {
   "cell_type": "code",
   "execution_count": 1,
   "id": "7480c4a7-413a-4960-982b-e64dc083f36c",
   "metadata": {},
   "outputs": [],
   "source": [
    "import pandas as pd\n",
    "from sklearn.preprocessing import OrdinalEncoder\n",
    "from sklearn.compose import ColumnTransformer\n",
    "from sklearn.model_selection import train_test_split\n",
    "from sklearn.impute import SimpleImputer\n",
    "from sklearn.preprocessing import StandardScaler\n",
    "from sklearn.pipeline import make_pipeline\n",
    "from sklearn.model_selection import GridSearchCV\n",
    "from sklearn.preprocessing import OneHotEncoder\n",
    "from sklearn.preprocessing import FunctionTransformer\n",
    "from sklearn.metrics import mean_squared_error\n",
    "from sklearn.feature_selection import VarianceThreshold\n",
    "from sklearn.ensemble import RandomForestRegressor\n",
    "from sklearn.metrics import mean_absolute_error"
   ]
  },
  {
   "cell_type": "code",
   "execution_count": 2,
   "id": "e3b07749-72f7-4e9f-925f-219c859d7931",
   "metadata": {},
   "outputs": [],
   "source": [
    "housing = pd.read_csv('housing_prices_numeric.csv')"
   ]
  },
  {
   "cell_type": "code",
   "execution_count": 3,
   "id": "8396ed67-58c4-4bea-bc4d-01337a4bebfd",
   "metadata": {},
   "outputs": [
    {
     "data": {
      "image/png": "[encoded data removed]",
      "text/plain": [
       "<Figure size 1440x720 with 1 Axes>"
      ]
     },
     "metadata": {
      "needs_background": "light"
     },
     "output_type": "display_data"
    }
   ],
   "source": [
    "# distribution of house prices\n",
    "housing.SalePrice.hist(bins=30, figsize=(20,10));"
   ]
  },
  {
   "cell_type": "code",
   "execution_count": 4,
   "id": "238cd072-3a3f-4093-b8f6-87e3ecf99b25",
   "metadata": {},
   "outputs": [],
   "source": [
    "housing.drop_duplicates(inplace=True)\n",
    "housing.drop(['SaleType', 'SaleCondition', 'MoSold', 'YrSold'], axis=1, inplace=True)\n",
    "housing = housing[housing['MasVnrArea'].notna()].copy()\n",
    "ordinal_columns = [\"LotShape\", \"Utilities\", \"LandSlope\", \"ExterQual\", \"ExterCond\", \n",
    "            \"BsmtQual\", \"BsmtCond\", \"BsmtExposure\", \"BsmtFinType1\", \"BsmtFinType2\", \n",
    "            \"HeatingQC\", \"Electrical\", \"KitchenQual\", \"Functional\", \"FireplaceQu\",\n",
    "            \"GarageFinish\", \"GarageQual\", \"GarageCond\", \"Fence\", \"PoolQC\"]\n",
    "LotShape_cats = [\"Reg\", \"IR1\", \"IR2\", \"IR3\"]\n",
    "Utilities_cats = [\"AllPub\", \"NoSewr\", \"NoSeWa\", \"ELO\"]\n",
    "LandSlope_cats = [\"Gtl\", \"Mod\", \"Sev\"]\n",
    "ExterQual_cats = [\"Po\", \"Fa\", \"TA\", \"Gd\", \"Ex\"]\n",
    "ExterCond_cats = [\"Po\", \"Fa\", \"TA\", \"Gd\", \"Ex\"]\n",
    "BsmtQual_cats = [\"N_A\", \"Po\", \"Fa\", \"TA\", \"Gd\", \"Ex\"]\n",
    "BsmtCond_cats = [\"N_A\", \"Po\", \"Fa\", \"TA\", \"Gd\", \"Ex\"]\n",
    "BsmtExposure_cats = [\"N_A\", \"No\", \"Mn\", \"Av\", \"Gd\"]\n",
    "BsmtFinType1_cats = [\"N_A\", \"Unf\", \"LwQ\", \"Rec\", \"BLQ\", \"ALQ\", \"GLQ\"]\n",
    "BsmtFinType2_cats = [\"N_A\", \"Unf\", \"LwQ\", \"Rec\", \"BLQ\", \"ALQ\", \"GLQ\"]\n",
    "HeatingQC_cats = [\"Po\", \"Fa\", \"TA\", \"Gd\", \"Ex\"]\n",
    "Electrical_cats = [\"N_A\", \"Mix\", \"FuseP\", \"FuseF\", \"FuseA\", \"SBrkr\"]\n",
    "KitchenQual_cats = [\"Po\", \"Fa\", \"TA\", \"Gd\", \"Ex\"]\n",
    "Functional_cats = [\"Sal\", \"Sev\", \"Maj2\", \"Maj1\", \"Mod\", \"Min2\", \"Min1\", \"Typ\"]\n",
    "FireplaceQu_cats = [\"N_A\", \"Po\", \"Fa\", \"TA\", \"Gd\", \"Ex\"]\n",
    "GarageFinish_cats = [\"N_A\", \"Unf\", \"RFn\", \"Fin\"]\n",
    "GarageQual_cats = [\"N_A\", \"Po\", \"Fa\", \"TA\", \"Gd\", \"Ex\"]\n",
    "GarageCond_cats = [\"N_A\", \"Po\", \"Fa\", \"TA\", \"Gd\", \"Ex\"]\n",
    "Fence_cats = [\"N_A\", \"MnWw\", \"GdWo\", \"MnPrv\", \"GdPrv\"]\n",
    "PoolQC_cats = [\"N_A\", \"Fa\", \"TA\", \"Gd\", \"Ex\"]\n",
    "cats_ord = [LotShape_cats, Utilities_cats, LandSlope_cats, ExterQual_cats,\n",
    "            ExterCond_cats, BsmtQual_cats, BsmtCond_cats, BsmtExposure_cats,\n",
    "            BsmtFinType1_cats, BsmtFinType2_cats, HeatingQC_cats, Electrical_cats,\n",
    "            KitchenQual_cats, Functional_cats, FireplaceQu_cats, GarageFinish_cats,\n",
    "            GarageQual_cats, GarageCond_cats, Fence_cats, PoolQC_cats]"
   ]
  },
  {
   "cell_type": "markdown",
   "id": "92fc22cd-91f3-4592-9f6d-af200a99d18e",
   "metadata": {},
   "source": [
    "# [Principal Component Analysis (PCA)](https://scikit-learn.org/stable/modules/clustering.html)\n",
    "\n",
    "[StatQuest PCA brief 5 minute overview](https://www.youtube.com/watch?v=HMOI_lkzW08)\n",
    "\n",
    "[StatQuest PCA 20 minute step by step walkthrough](https://www.youtube.com/watch?v=FgakZw6K1QQ)"
   ]
  },
  {
   "cell_type": "code",
   "execution_count": 5,
   "id": "12465fa0-fb90-4199-9b1a-52e763b7b870",
   "metadata": {},
   "outputs": [],
   "source": [
    "from sklearn.decomposition import PCA\n",
    "\n",
    "pca = PCA()"
   ]
  },
  {
   "cell_type": "code",
   "execution_count": 6,
   "id": "9a4e5975-a4f7-4d26-9f03-391d135759fc",
   "metadata": {},
   "outputs": [
    {
     "data": {
      "text/plain": [
       "{'pca__n_components': 15,\n",
       " 'randomforestregressor__max_depth': 20,\n",
       " 'randomforestregressor__min_samples_leaf': 2,\n",
       " 'randomforestregressor__min_samples_split': 3}"
      ]
     },
     "execution_count": 6,
     "metadata": {},
     "output_type": "execute_result"
    }
   ],
   "source": [
    "X = housing.drop(columns=\"SalePrice\")\n",
    "y = housing[\"SalePrice\"]\n",
    "\n",
    "def impute_categ_nulls(df):\n",
    "    df = df.fillna(\"N_A\")\n",
    "    return df\n",
    "\n",
    "cat_imputer = FunctionTransformer(impute_categ_nulls, validate=False)\n",
    "\n",
    "numeric_features = list(X.select_dtypes(exclude=[\"object\"]))\n",
    "\n",
    "numeric_pipe = make_pipeline(\n",
    "    SimpleImputer(strategy=\"median\")\n",
    ")\n",
    "\n",
    "categorical_features_ordinal = ordinal_columns\n",
    "categorical_transformer_ordinal = OrdinalEncoder(categories=cats_ord)\n",
    "categorical_features_onehot = list(set(list(X.select_dtypes(include=[\"object\"]))) - set(ordinal_columns))\n",
    "categorical_transformer_onehot = OneHotEncoder(handle_unknown=\"ignore\")\n",
    "\n",
    "categorical_preprocessor = ColumnTransformer(\n",
    "    transformers=[\n",
    "        (\"cat_ordinal\", categorical_transformer_ordinal, categorical_features_ordinal),\n",
    "        (\"cat_onehot\", categorical_transformer_onehot, categorical_features_onehot),\n",
    "    ]\n",
    ")\n",
    "\n",
    "categorical_pipe = make_pipeline(\n",
    "    cat_imputer,\n",
    "    categorical_preprocessor\n",
    ")\n",
    "\n",
    "\n",
    "cat_num_preprocessor = ColumnTransformer(\n",
    "    transformers=[\n",
    "        (\"num\", numeric_pipe, numeric_features),\n",
    "        (\"cat_pipe\", categorical_pipe, list(X.select_dtypes(include=[\"object\"]))),\n",
    "    ]\n",
    ")\n",
    "\n",
    "final_pipe = make_pipeline(\n",
    "    cat_num_preprocessor,\n",
    "    VarianceThreshold(),\n",
    "    StandardScaler(),\n",
    "    pca,\n",
    "    RandomForestRegressor()\n",
    ")\n",
    "\n",
    "pipe_params = {\n",
    "    'pca__n_components': [5, 15, 30, 60],\n",
    "    'randomforestregressor__max_depth': [10, 20, 40],\n",
    "    'randomforestregressor__min_samples_split': [2, 3, 5],\n",
    "    'randomforestregressor__min_samples_leaf': [1, 2, 5]\n",
    "}\n",
    "\n",
    "clf = GridSearchCV(final_pipe, pipe_params, cv = 10, scoring='neg_root_mean_squared_error', \n",
    "                   error_score='raise')\n",
    "\n",
    "X_train, X_test, y_train, y_test = train_test_split(X, y, test_size=0.2, random_state=0)\n",
    "\n",
    "clf.fit(X_train, y_train)\n",
    "\n",
    "clf.best_params_"
   ]
  },
  {
   "cell_type": "code",
   "execution_count": 7,
   "id": "2f6156c5-22ae-4ea5-8d75-24a9f0edbd79",
   "metadata": {},
   "outputs": [
    {
     "data": {
      "text/plain": [
       "17407.406222263126"
      ]
     },
     "execution_count": 7,
     "metadata": {},
     "output_type": "execute_result"
    }
   ],
   "source": [
    "y_pred = clf.predict(X_test)\n",
    "\n",
    "mae = mean_absolute_error(y_test, y_pred)\n",
    "mae"
   ]
  },
  {
   "cell_type": "code",
   "execution_count": 8,
   "id": "b4bdb4d0-7e3b-4953-8361-dc3ac5d59b51",
   "metadata": {},
   "outputs": [
    {
     "data": {
      "text/plain": [
       "0.09637851907240885"
      ]
     },
     "execution_count": 8,
     "metadata": {},
     "output_type": "execute_result"
    }
   ],
   "source": [
    "mean_price = round(housing.SalePrice.mean())\n",
    "\n",
    "relative_error = mae / mean_price\n",
    "relative_error"
   ]
  },
  {
   "cell_type": "code",
   "execution_count": 9,
   "id": "cd5d0202-8d28-45d5-86a7-ca8ff9fd7553",
   "metadata": {},
   "outputs": [
    {
     "data": {
      "image/png": "[encoded data removed]",
      "text/plain": [
       "<Figure size 1080x576 with 1 Axes>"
      ]
     },
     "metadata": {
      "needs_background": "light"
     },
     "output_type": "display_data"
    }
   ],
   "source": [
    "X_test_results = X_test.copy()\n",
    "\n",
    "X_test_results[\"true_price\"] = y_test\n",
    "X_test_results[\"predicted_price\"] = y_pred\n",
    "X_test_results[\"absolute_error\"] = abs(X_test_results[\"true_price\"] - X_test_results[\"predicted_price\"])\n",
    "X_test_results[\"relative_error\"] = X_test_results[\"absolute_error\"] / X_test_results[\"true_price\"]\n",
    "\n",
    "ax = X_test_results.relative_error.hist(bins=20, figsize=(15,8))\n",
    "ax.axvline(relative_error, color=\"red\", linestyle=\"--\");"
   ]
  },
  {
   "cell_type": "code",
   "execution_count": null,
   "id": "c7db920a-3f49-430a-807b-a97ff571bc88",
   "metadata": {},
   "outputs": [],
   "source": []
  },
  {
   "cell_type": "code",
   "execution_count": null,
   "id": "5cc17267-f464-4ec9-83e5-fcce43e6b881",
   "metadata": {},
   "outputs": [],
   "source": []
  }
 ],
 "metadata": {
  "kernelspec": {
   "display_name": "Python 3 (ipykernel)",
   "language": "python",
   "name": "python3"
  },
  "language_info": {
   "codemirror_mode": {
    "name": "ipython",
    "version": 3
   },
   "file_extension": ".py",
   "mimetype": "text/x-python",
   "name": "python",
   "nbconvert_exporter": "python",
   "pygments_lexer": "ipython3",
   "version": "3.8.8"
  }
 },
 "nbformat": 4,
 "nbformat_minor": 5
}
