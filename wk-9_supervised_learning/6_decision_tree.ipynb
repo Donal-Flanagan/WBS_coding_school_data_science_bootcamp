{
 "cells": [
  {
   "cell_type": "code",
   "execution_count": null,
   "id": "54906a88-c438-4ad5-9192-250061370410",
   "metadata": {},
   "outputs": [],
   "source": [
    "correlation matrix for feature selection\n",
    "\n",
    "check distributions of feature values\n",
    "there is a panda method for comparing distributions\n",
    "\n",
    "check for outliers and compare with house price to see if they should be removed\n",
    "\n",
    "good feature selection and preprocessing is important\n",
    "you can then just use a simple model\n",
    "\n",
    "make sure you upload the predictions as integers, not floats"
   ]
  }
 ],
 "metadata": {
  "kernelspec": {
   "display_name": "Python 3 (ipykernel)",
   "language": "python",
   "name": "python3"
  },
  "language_info": {
   "codemirror_mode": {
    "name": "ipython",
    "version": 3
   },
   "file_extension": ".py",
   "mimetype": "text/x-python",
   "name": "python",
   "nbconvert_exporter": "python",
   "pygments_lexer": "ipython3",
   "version": "3.8.8"
  }
 },
 "nbformat": 4,
 "nbformat_minor": 5
}
