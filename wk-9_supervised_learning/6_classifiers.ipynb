{
 "cells": [
  {
   "cell_type": "code",
   "execution_count": null,
   "id": "85500534-8a3a-46b2-a16c-3c29ca24fa87",
   "metadata": {},
   "outputs": [],
   "source": [
    "n_neighbours\n",
    "weights\n",
    "p - distance function"
   ]
  },
  {
   "cell_type": "code",
   "execution_count": 73,
   "id": "da9a8ed1-c8aa-4d64-80e2-e58c3368a722",
   "metadata": {},
   "outputs": [
    {
     "name": "stderr",
     "output_type": "stream",
     "text": [
      "Intel(R) Extension for Scikit-learn* enabled (https://github.com/intel/scikit-learn-intelex)\n"
     ]
    }
   ],
   "source": [
    "import pandas as pd\n",
    "import numpy as np\n",
    "from sklearnex import patch_sklearn\n",
    "patch_sklearn()\n",
    "\n",
    "import matplotlib.pyplot as plt\n",
    "import seaborn as sns\n",
    "from sklearn.metrics import mean_squared_error, mean_absolute_error, mean_squared_log_error\n",
    "\n",
    "from sklearn.model_selection import train_test_split\n",
    "from sklearn.pipeline import Pipeline\n",
    "from sklearn.impute import SimpleImputer\n",
    "from sklearn.compose import ColumnTransformer\n",
    "from sklearn.preprocessing import MinMaxScaler, OneHotEncoder, OrdinalEncoder\n",
    "\n",
    "from sklearn.model_selection import GridSearchCV\n",
    "from sklearn.metrics import accuracy_score, plot_confusion_matrix\n",
    "\n",
    "from sklearn.neighbors import KNeighborsClassifier\n",
    "from sklearn.linear_model import LogisticRegression\n",
    "from sklearn.ensemble import RandomForestClassifier\n",
    "from sklearn.svm import SVC\n",
    "\n",
    "pd.set_option('display.max_rows', 100)"
   ]
  },
  {
   "cell_type": "code",
   "execution_count": 63,
   "id": "c7fc1b91-fc6f-4462-91cd-58ef8fe1f27f",
   "metadata": {},
   "outputs": [],
   "source": [
    "house_data = pd.read_csv(\"../data/Housing_data/housing-classification-iter6.csv\", index_col='Id')\n",
    "\n",
    "X = house_data.drop(columns=['Expensive'])\n",
    "y = house_data['Expensive']\n",
    "\n",
    "X_train, X_test, y_train, y_test = train_test_split(X, y, train_size=.8, random_state=8)#, stratify=categoric_features)\n",
    "\n",
    "X_train = pd.DataFrame(X_train, columns=X.columns)\n",
    "X_test = pd.DataFrame(X_test, columns=X.columns)"
   ]
  },
  {
   "cell_type": "code",
   "execution_count": 60,
   "id": "34ee3c6a-cd55-46a9-a572-91c0f5832b0c",
   "metadata": {},
   "outputs": [],
   "source": [
    "def plot_predictions(y_true, y_pred): \n",
    "    print(\n",
    "        f\"\"\"\n",
    "        RMSLE: {mean_squared_log_error(y_true, y_pred)**0.5}\n",
    "        MSE: {mean_squared_error(y_true, y_pred)}\n",
    "        RMSE: {mean_squared_error(y_true, y_pred)**0.5}\n",
    "        MAE: {mean_absolute_error(y_true, y_pred)}\n",
    "        \"\"\"\n",
    "    )\n",
    "    max_preds = min([max(y_pred.tolist()), max(y_true.tolist())])\n",
    "    min_preds = max([min(y_pred.tolist()), min(y_true.tolist())])\n",
    "    print(max_preds, min_preds)\n",
    "    # plot\n",
    "    plt.figure(figsize=(8,8))\n",
    "    sns.scatterplot(x=y_pred, y=y_true)\n",
    "    sns.lineplot(x=[min_preds,max_preds], y=[min_preds, max_preds], color='red')\n",
    "    plt.ylabel('Observed')\n",
    "    plt.xlabel('Predicted')\n",
    "    plt.show()\n",
    "\n",
    "    errors = y_pred - y_true\n",
    "    plt.subplots(figsize=(12, 8))\n",
    "    sns.histplot(errors)\n",
    "    plt.vlines(x=0, ymin=0, ymax=150, color='red')\n",
    "    plt.show()\n",
    "\n",
    "    p_df = (\n",
    "        pd.DataFrame({'y_true':y_true, 'y_pred':y_pred})\n",
    "        .assign(error = lambda x: x['y_pred'] - x['y_true'])\n",
    "        .sort_values(by='y_true')\n",
    "        )\n",
    "\n",
    "    plt.subplots(figsize=(12, 8))\n",
    "    sns.scatterplot(data=p_df, x='y_true', y='error')\n",
    "    plt.hlines(y=0, xmin=0, xmax=max(p_df['y_true']), color='red')\n",
    "    plt.show()"
   ]
  },
  {
   "cell_type": "code",
   "execution_count": 64,
   "id": "9145c2a4-101e-4b81-a989-6bf8e0129047",
   "metadata": {},
   "outputs": [],
   "source": [
    "# Ordered categorical columns\n",
    "ordinal_categorical_features  = [\"ExterQual\", \"ExterCond\", \"BsmtQual\", \"BsmtCond\", \"HeatingQC\", \"KitchenQual\", \n",
    "                                 \"FireplaceQu\", \"GarageQual\", \"GarageCond\", \"PoolQC\",\"LotShape\", \"LandSlope\",\n",
    "                                 \"BsmtExposure\", \"BsmtFinType1\", \"BsmtFinType2\", \"Functional\", \"GarageFinish\", \n",
    "                                 \"PavedDrive\", \"Utilities\", \"Electrical\", \"Fence\"] \n",
    "\n",
    "categorical_features = list(X_train.select_dtypes(include=[\"object\"]))\n",
    "# Unordered categorical columns\n",
    "nominative_categorical_features = list(set(categorical_features) - set(ordinal_categorical_features))\n",
    "\n",
    "numerical_features = list(X_train.select_dtypes(exclude=[\"object\"]))\n",
    "\n",
    "ordinal_categories = [\n",
    "    [\"None\", \"Po\", \"Fa\", \"TA\", \"Gd\", \"Ex\"],\n",
    "    [\"None\", \"Po\", \"Fa\", \"TA\", \"Gd\", \"Ex\"],\n",
    "    [\"None\", \"Po\", \"Fa\", \"TA\", \"Gd\", \"Ex\"],\n",
    "    [\"None\", \"Po\", \"Fa\", \"TA\", \"Gd\", \"Ex\"],\n",
    "    [\"None\", \"Po\", \"Fa\", \"TA\", \"Gd\", \"Ex\"],\n",
    "    [\"None\", \"Po\", \"Fa\", \"TA\", \"Gd\", \"Ex\"],\n",
    "    [\"None\", \"Po\", \"Fa\", \"TA\", \"Gd\", \"Ex\"],\n",
    "    [\"None\", \"Po\", \"Fa\", \"TA\", \"Gd\", \"Ex\"],\n",
    "    [\"None\", \"Po\", \"Fa\", \"TA\", \"Gd\", \"Ex\"],\n",
    "    [\"None\", \"Po\", \"Fa\", \"TA\", \"Gd\", \"Ex\"],\n",
    "    [\"None\", \"Reg\", \"IR1\", \"IR2\", \"IR3\"],\n",
    "    [\"None\", \"Sev\", \"Mod\", \"Gtl\"],\n",
    "    [\"None\", \"No\", \"Mn\", \"Av\", \"Gd\"],\n",
    "    [\"None\", \"Unf\", \"LwQ\", \"Rec\", \"BLQ\", \"ALQ\", \"GLQ\"],\n",
    "    [\"None\", \"Unf\", \"LwQ\", \"Rec\", \"BLQ\", \"ALQ\", \"GLQ\"],\n",
    "    [\"None\", \"Sal\", \"Sev\", \"Maj1\", \"Maj2\", \"Mod\", \"Min2\", \"Min1\", \"Typ\"],\n",
    "    [\"None\", \"Unf\", \"RFn\", \"Fin\"],\n",
    "    [\"None\", \"N\", \"P\", \"Y\"],\n",
    "    [\"None\", \"NoSeWa\", \"NoSewr\", \"AllPub\"],\n",
    "    [\"None\", \"Mix\", \"FuseP\", \"FuseF\", \"FuseA\", \"SBrkr\"],\n",
    "    [\"None\", \"MnWw\", \"GdWo\", \"MnPrv\", \"GdPrv\"]\n",
    "]"
   ]
  },
  {
   "cell_type": "code",
   "execution_count": 65,
   "id": "4b7ac725-8eab-429d-ac8e-b22084235477",
   "metadata": {},
   "outputs": [],
   "source": [
    "# Create the scaling pipelines for categorical and numerical data\n",
    "numeric_pipeline = Pipeline(steps=[\n",
    "    ('impute', SimpleImputer(strategy='median')),\n",
    "    ('scale', MinMaxScaler())\n",
    "])\n",
    "one_hot_pipeline = Pipeline(steps=[\n",
    "    ('impute', SimpleImputer(strategy=\"constant\", fill_value=\"None\")),\n",
    "    ('one-hot', OneHotEncoder(handle_unknown='ignore', sparse=False))\n",
    "])\n",
    "ordinal_pipeline = Pipeline(steps=[\n",
    "    ('impute', SimpleImputer(strategy=\"constant\", fill_value=\"None\")),\n",
    "    ('ordinal', OrdinalEncoder(categories=ordinal_categories)),\n",
    "    ('scale', MinMaxScaler())\n",
    "])\n",
    "\n",
    "# Apply the scaling pipeline to both categorical and numerical columns\n",
    "full_processor = ColumnTransformer(transformers=[\n",
    "    ('numerical', numeric_pipeline, numerical_features), \n",
    "    ('one_hot', one_hot_pipeline, nominative_categorical_features), \n",
    "    ('ordinal', ordinal_pipeline, ordinal_categorical_features)\n",
    "])"
   ]
  },
  {
   "cell_type": "markdown",
   "id": "2a23312d-8194-4363-b1e5-7bb9e5b36719",
   "metadata": {},
   "source": [
    "### KNeighbors"
   ]
  },
  {
   "cell_type": "code",
   "execution_count": 78,
   "id": "2b410351-32f9-46ba-bc23-eeed9b1bd8e2",
   "metadata": {},
   "outputs": [
    {
     "name": "stdout",
     "output_type": "stream",
     "text": [
      "RMSLE: 0.1756445469887147\n"
     ]
    }
   ],
   "source": [
    "knn_pipeline = Pipeline(steps=[\n",
    "    ('processor', full_processor), \n",
    "    ('model', KNeighborsClassifier(n_neighbors=6))\n",
    "])\n",
    "\n",
    "_ = knn_pipeline.fit(X_train, y_train)\n",
    "\n",
    "training_predictions = knn_pipeline.predict(X_train)\n",
    "# Plot the training data predictions\n",
    "# plot_predictions(y_train, training_predictions)\n",
    "print(f'RMSLE: {mean_squared_log_error(y_train, training_predictions)**0.5}')"
   ]
  },
  {
   "cell_type": "markdown",
   "id": "375b82f6-9b95-4b21-8d30-b706539bc57e",
   "metadata": {},
   "source": [
    "### LogisticRegression"
   ]
  },
  {
   "cell_type": "code",
   "execution_count": 77,
   "id": "c8ee77f1-cc2a-4ec6-b7be-fad9d3f0c9aa",
   "metadata": {},
   "outputs": [
    {
     "name": "stdout",
     "output_type": "stream",
     "text": [
      "RMSLE: 0.1756445469887147\n"
     ]
    }
   ],
   "source": [
    "lr_pipeline = Pipeline(steps=[\n",
    "    ('processor', full_processor), \n",
    "    ('model', LogisticRegression(random_state=0))\n",
    "])\n",
    "\n",
    "_ = lr_pipeline.fit(X_train, y_train)\n",
    "\n",
    "training_predictions = knn_pipeline.predict(X_train)\n",
    "# Plot the training data predictions\n",
    "# plot_predictions(y_train, training_predictions)\n",
    "print(f'RMSLE: {mean_squared_log_error(y_train, training_predictions)**0.5}')"
   ]
  },
  {
   "cell_type": "markdown",
   "id": "204c2fb3-8334-42f9-b4c5-eb30b169d490",
   "metadata": {},
   "source": [
    "### RandomForest"
   ]
  },
  {
   "cell_type": "code",
   "execution_count": 76,
   "id": "23049966-4890-4f51-bd17-85a2a2f5ffdc",
   "metadata": {},
   "outputs": [
    {
     "name": "stdout",
     "output_type": "stream",
     "text": [
      "RMSLE: 0.20180022073989282\n"
     ]
    }
   ],
   "source": [
    "rf_pipeline = Pipeline(steps=[\n",
    "    ('processor', full_processor), \n",
    "    ('model', RandomForestClassifier(max_depth=2, random_state=0))\n",
    "])\n",
    "\n",
    "_ = rf_pipeline.fit(X_train, y_train)\n",
    "\n",
    "training_predictions = rf_pipeline.predict(X_train)\n",
    "# Plot the training data predictions\n",
    "# plot_predictions(y_train, training_predictions)\n",
    "print(f'RMSLE: {mean_squared_log_error(y_train, training_predictions)**0.5}')"
   ]
  },
  {
   "cell_type": "markdown",
   "id": "3519d6f5-32d2-4839-bbf3-6e72e3cf7d4d",
   "metadata": {},
   "source": [
    "### Support Vector Machine"
   ]
  },
  {
   "cell_type": "code",
   "execution_count": 80,
   "id": "d3abecf4-f415-4299-8e93-d6ab364ad389",
   "metadata": {},
   "outputs": [
    {
     "name": "stdout",
     "output_type": "stream",
     "text": [
      "RMSLE: 0.20683341819717507\n"
     ]
    }
   ],
   "source": [
    "svc_pipeline = Pipeline(steps=[\n",
    "    ('processor', full_processor), \n",
    "    ('model', SVC(gamma='auto'))\n",
    "])\n",
    "\n",
    "_ = svc_pipeline.fit(X_train, y_train)\n",
    "\n",
    "training_predictions = svc_pipeline.predict(X_train)\n",
    "# Plot the training data predictions\n",
    "# plot_predictions(y_train, training_predictions)\n",
    "print(f'RMSLE: {mean_squared_log_error(y_train, training_predictions)**0.5}')\n",
    "\n",
    "# log_training_predictions = svc_pipeline.predict_log_proba(X_train)\n",
    "# print(f'RMSLE: {mean_squared_log_error(y_train, log_training_predictions)**0.5}')"
   ]
  },
  {
   "cell_type": "code",
   "execution_count": null,
   "id": "d7061aca-9abb-4725-9117-5021dbe48f10",
   "metadata": {},
   "outputs": [],
   "source": []
  }
 ],
 "metadata": {
  "kernelspec": {
   "display_name": "Python 3 (ipykernel)",
   "language": "python",
   "name": "python3"
  },
  "language_info": {
   "codemirror_mode": {
    "name": "ipython",
    "version": 3
   },
   "file_extension": ".py",
   "mimetype": "text/x-python",
   "name": "python",
   "nbconvert_exporter": "python",
   "pygments_lexer": "ipython3",
   "version": "3.8.8"
  }
 },
 "nbformat": 4,
 "nbformat_minor": 5
}
