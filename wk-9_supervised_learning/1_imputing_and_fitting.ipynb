{
 "cells": [
  {
   "cell_type": "code",
   "execution_count": 56,
   "id": "c3112962-1fa8-49c9-8b4a-d6c400e38ad9",
   "metadata": {},
   "outputs": [],
   "source": [
    "import pandas as pd\n",
    "import numpy as np\n",
    "from sklearnex import patch_sklearn\n",
    "patch_sklearn()\n",
    "import matplotlib.pyplot as plt\n",
    "from sklearn.model_selection import train_test_split\n",
    "from sklearn.tree import DecisionTreeClassifier\n",
    "from sklearn.tree import plot_tree\n",
    "from sklearn.metrics import accuracy_score, plot_confusion_matrix\n",
    "from sklearn.pipeline import Pipeline\n",
    "from sklearn.impute import SimpleImputer\n",
    "from sklearn.preprocessing import MinMaxScaler\n",
    "\n",
    "\n",
    "pd.set_option('display.max_rows', 100)"
   ]
  },
  {
   "cell_type": "markdown",
   "id": "63f0f074-855d-4ecd-b0c3-710d365728c2",
   "metadata": {
    "tags": []
   },
   "source": [
    "### Load and explore the data"
   ]
  },
  {
   "cell_type": "code",
   "execution_count": 23,
   "id": "f1d6e16e-f653-4a0f-8f16-f72967ad27cd",
   "metadata": {},
   "outputs": [
    {
     "name": "stdout",
     "output_type": "stream",
     "text": [
      "<class 'pandas.core.frame.DataFrame'>\n",
      "RangeIndex: 1460 entries, 0 to 1459\n",
      "Data columns (total 10 columns):\n",
      " #   Column        Non-Null Count  Dtype  \n",
      "---  ------        --------------  -----  \n",
      " 0   LotArea       1460 non-null   int64  \n",
      " 1   LotFrontage   1201 non-null   float64\n",
      " 2   TotalBsmtSF   1460 non-null   int64  \n",
      " 3   BedroomAbvGr  1460 non-null   int64  \n",
      " 4   Fireplaces    1460 non-null   int64  \n",
      " 5   PoolArea      1460 non-null   int64  \n",
      " 6   GarageCars    1460 non-null   int64  \n",
      " 7   WoodDeckSF    1460 non-null   int64  \n",
      " 8   ScreenPorch   1460 non-null   int64  \n",
      " 9   Expensive     1460 non-null   int64  \n",
      "dtypes: float64(1), int64(9)\n",
      "memory usage: 114.2 KB\n",
      "None\n",
      "LotArea           0\n",
      "LotFrontage     259\n",
      "TotalBsmtSF       0\n",
      "BedroomAbvGr      0\n",
      "Fireplaces        0\n",
      "PoolArea          0\n",
      "GarageCars        0\n",
      "WoodDeckSF        0\n",
      "ScreenPorch       0\n",
      "Expensive         0\n",
      "dtype: int64\n"
     ]
    },
    {
     "data": {
      "text/html": [
       "<div>\n",
       "<style scoped>\n",
       "    .dataframe tbody tr th:only-of-type {\n",
       "        vertical-align: middle;\n",
       "    }\n",
       "\n",
       "    .dataframe tbody tr th {\n",
       "        vertical-align: top;\n",
       "    }\n",
       "\n",
       "    .dataframe thead th {\n",
       "        text-align: right;\n",
       "    }\n",
       "</style>\n",
       "<table border=\"1\" class=\"dataframe\">\n",
       "  <thead>\n",
       "    <tr style=\"text-align: right;\">\n",
       "      <th></th>\n",
       "      <th>LotArea</th>\n",
       "      <th>LotFrontage</th>\n",
       "      <th>TotalBsmtSF</th>\n",
       "      <th>BedroomAbvGr</th>\n",
       "      <th>Fireplaces</th>\n",
       "      <th>PoolArea</th>\n",
       "      <th>GarageCars</th>\n",
       "      <th>WoodDeckSF</th>\n",
       "      <th>ScreenPorch</th>\n",
       "      <th>Expensive</th>\n",
       "    </tr>\n",
       "  </thead>\n",
       "  <tbody>\n",
       "    <tr>\n",
       "      <th>0</th>\n",
       "      <td>8450</td>\n",
       "      <td>65.0</td>\n",
       "      <td>856</td>\n",
       "      <td>3</td>\n",
       "      <td>0</td>\n",
       "      <td>0</td>\n",
       "      <td>2</td>\n",
       "      <td>0</td>\n",
       "      <td>0</td>\n",
       "      <td>0</td>\n",
       "    </tr>\n",
       "    <tr>\n",
       "      <th>1</th>\n",
       "      <td>9600</td>\n",
       "      <td>80.0</td>\n",
       "      <td>1262</td>\n",
       "      <td>3</td>\n",
       "      <td>1</td>\n",
       "      <td>0</td>\n",
       "      <td>2</td>\n",
       "      <td>298</td>\n",
       "      <td>0</td>\n",
       "      <td>0</td>\n",
       "    </tr>\n",
       "    <tr>\n",
       "      <th>2</th>\n",
       "      <td>11250</td>\n",
       "      <td>68.0</td>\n",
       "      <td>920</td>\n",
       "      <td>3</td>\n",
       "      <td>1</td>\n",
       "      <td>0</td>\n",
       "      <td>2</td>\n",
       "      <td>0</td>\n",
       "      <td>0</td>\n",
       "      <td>0</td>\n",
       "    </tr>\n",
       "    <tr>\n",
       "      <th>3</th>\n",
       "      <td>9550</td>\n",
       "      <td>60.0</td>\n",
       "      <td>756</td>\n",
       "      <td>3</td>\n",
       "      <td>1</td>\n",
       "      <td>0</td>\n",
       "      <td>3</td>\n",
       "      <td>0</td>\n",
       "      <td>0</td>\n",
       "      <td>0</td>\n",
       "    </tr>\n",
       "    <tr>\n",
       "      <th>4</th>\n",
       "      <td>14260</td>\n",
       "      <td>84.0</td>\n",
       "      <td>1145</td>\n",
       "      <td>4</td>\n",
       "      <td>1</td>\n",
       "      <td>0</td>\n",
       "      <td>3</td>\n",
       "      <td>192</td>\n",
       "      <td>0</td>\n",
       "      <td>0</td>\n",
       "    </tr>\n",
       "  </tbody>\n",
       "</table>\n",
       "</div>"
      ],
      "text/plain": [
       "   LotArea  LotFrontage  TotalBsmtSF  BedroomAbvGr  Fireplaces  PoolArea  \\\n",
       "0     8450         65.0          856             3           0         0   \n",
       "1     9600         80.0         1262             3           1         0   \n",
       "2    11250         68.0          920             3           1         0   \n",
       "3     9550         60.0          756             3           1         0   \n",
       "4    14260         84.0         1145             4           1         0   \n",
       "\n",
       "   GarageCars  WoodDeckSF  ScreenPorch  Expensive  \n",
       "0           2           0            0          0  \n",
       "1           2         298            0          0  \n",
       "2           2           0            0          0  \n",
       "3           3           0            0          0  \n",
       "4           3         192            0          0  "
      ]
     },
     "execution_count": 23,
     "metadata": {},
     "output_type": "execute_result"
    }
   ],
   "source": [
    "'''\n",
    "LotFrontage: Linear feet of street connected to property\n",
    "\n",
    "LotArea: Lot size in square feet\n",
    "\n",
    "TotalBsmtSF: Total square feet of basement area\n",
    "\n",
    "BedroomAbvGr: Bedrooms above grade (does NOT include basement bedrooms)\n",
    "\n",
    "Fireplaces: Number of fireplaces\n",
    "\n",
    "PoolArea: Pool area in square feet\n",
    "\n",
    "GarageCars: Size of garage in car capacity\n",
    "\n",
    "WoodDeckSF: Wood deck area in square feet\n",
    "\n",
    "ScreenPorch: Screen porch area in square feet\n",
    "'''\n",
    "\n",
    "house_data_1 = pd.read_csv(\"../data/Housing_data/housing-classification-iter-0-2.csv\")\n",
    "\n",
    "print(house_data_1.info())\n",
    "print(house_data_1.isna().sum())\n",
    "house_data_1.head()"
   ]
  },
  {
   "cell_type": "markdown",
   "id": "4e5b1e34-2abe-451a-b07f-ab2c2a38eedf",
   "metadata": {},
   "source": [
    "### Split the data into train and test sets"
   ]
  },
  {
   "cell_type": "code",
   "execution_count": 44,
   "id": "054dbabb-7921-49b9-812a-1572d8662839",
   "metadata": {},
   "outputs": [],
   "source": [
    "X = house_data_1.drop(columns=['Expensive'])\n",
    "y = house_data_1['Expensive']\n",
    "\n",
    "X_train, X_test, y_train, y_test = train_test_split(X, y, train_size=.8, random_state=8)\n",
    "\n",
    "X_train = pd.DataFrame(X_train, columns=X.columns)\n",
    "X_test = pd.DataFrame(X_test, columns=X.columns)"
   ]
  },
  {
   "cell_type": "markdown",
   "id": "d15e5f3f-6a12-45f4-b921-2edd072e876b",
   "metadata": {},
   "source": [
    "### Fill missing values"
   ]
  },
  {
   "cell_type": "code",
   "execution_count": 50,
   "id": "241d9d8b-19ea-4592-ac93-c81dd32d686c",
   "metadata": {},
   "outputs": [
    {
     "data": {
      "text/plain": [
       "LotArea         0\n",
       "LotFrontage     0\n",
       "TotalBsmtSF     0\n",
       "BedroomAbvGr    0\n",
       "Fireplaces      0\n",
       "PoolArea        0\n",
       "GarageCars      0\n",
       "WoodDeckSF      0\n",
       "ScreenPorch     0\n",
       "dtype: int64"
      ]
     },
     "execution_count": 50,
     "metadata": {},
     "output_type": "execute_result"
    }
   ],
   "source": [
    "# Specify numerical columns which need values filled\n",
    "num_cols = ['LotFrontage']\n",
    "\n",
    "# define missing values imputer strategy\n",
    "imp_num = SimpleImputer(strategy=\"median\")\n",
    "\n",
    "X_train[num_cols] = imp_num.fit_transform(X_train[num_cols])\n",
    "X_test[num_cols] = imp_num.transform(X_test[num_cols])\n",
    "X_train.isna().sum()"
   ]
  },
  {
   "cell_type": "markdown",
   "id": "a84bea7e-5750-490d-8571-f908e77ab41b",
   "metadata": {},
   "source": [
    "### Scale the values"
   ]
  },
  {
   "cell_type": "code",
   "execution_count": 51,
   "id": "67b4c8fb-b424-4a60-a44f-503867d2c2e8",
   "metadata": {},
   "outputs": [],
   "source": [
    "min_max_scaler = MinMaxScaler(feature_range=(0,1))\n",
    "X_train_scaled = min_max_scaler.fit_transform(X_train)\n",
    "X_test_scaled = min_max_scaler.transform(X_test)\n",
    "\n",
    "X_train_scaled = pd.DataFrame(X_train_scaled,\n",
    "                              index=X_train.index,\n",
    "                              columns=X_train.columns)\n",
    "\n",
    "X_test_scaled = pd.DataFrame(X_test_scaled,\n",
    "                             index=X_test.index,\n",
    "                             columns=X_test.columns)"
   ]
  },
  {
   "cell_type": "markdown",
   "id": "7a90bc37-5d94-415b-bf59-0c3b59f639b7",
   "metadata": {},
   "source": [
    "### Apply a Decision Tree model"
   ]
  },
  {
   "cell_type": "code",
   "execution_count": 86,
   "id": "f94f8d38-f48b-4212-ba8e-0ce1ebb1ec29",
   "metadata": {},
   "outputs": [
    {
     "data": {
      "text/plain": [
       "DecisionTreeClassifier(max_depth=6)"
      ]
     },
     "execution_count": 86,
     "metadata": {},
     "output_type": "execute_result"
    }
   ],
   "source": [
    "tree = DecisionTreeClassifier(max_depth=6)\n",
    "tree.fit(X_train_scaled, y_train)"
   ]
  },
  {
   "cell_type": "markdown",
   "id": "6f9b7bde-5104-4935-a060-e5c4574683da",
   "metadata": {},
   "source": [
    "### Visualise the tree"
   ]
  },
  {
   "cell_type": "code",
   "execution_count": 90,
   "id": "93a6fc31-8ff6-4869-974e-6c9153d2f1bc",
   "metadata": {},
   "outputs": [
    {
     "data": {
      "image/png": "[encoded data removed]",
      "text/plain": [
       "<Figure size 1080x504 with 1 Axes>"
      ]
     },
     "metadata": {
      "needs_background": "light"
     },
     "output_type": "display_data"
    }
   ],
   "source": [
    "plt.figure(figsize=(15, 7))\n",
    "plot_tree(\n",
    "    tree,\n",
    "    filled=True, \n",
    "    rounded=True, \n",
    "    class_names=['Not Survived','Survived'], \n",
    "    feature_names=X_train_scaled.columns\n",
    "    );"
   ]
  },
  {
   "cell_type": "markdown",
   "id": "41526414-3fde-4142-a07b-ace9bedf8b60",
   "metadata": {},
   "source": [
    "### Check the metrics on train"
   ]
  },
  {
   "cell_type": "code",
   "execution_count": 87,
   "id": "68f8ec4f-2051-403d-97e6-94aa70ca098c",
   "metadata": {},
   "outputs": [
    {
     "data": {
      "text/plain": [
       "0.9554794520547946"
      ]
     },
     "execution_count": 87,
     "metadata": {},
     "output_type": "execute_result"
    }
   ],
   "source": [
    "preds = tree.predict(X_train_scaled)\n",
    "accuracy_score(preds, y_train)"
   ]
  },
  {
   "cell_type": "markdown",
   "id": "3c2a8fb1-6b59-462c-8050-758d8bf2919d",
   "metadata": {},
   "source": [
    "### Check the metrics on test"
   ]
  },
  {
   "cell_type": "code",
   "execution_count": 88,
   "id": "89c0093a-8dd4-406d-80e3-0f122c057899",
   "metadata": {},
   "outputs": [
    {
     "data": {
      "text/plain": [
       "0.910958904109589"
      ]
     },
     "execution_count": 88,
     "metadata": {},
     "output_type": "execute_result"
    }
   ],
   "source": [
    "preds = tree.predict(X_test_scaled)\n",
    "accuracy_score(preds, y_test)"
   ]
  },
  {
   "cell_type": "markdown",
   "id": "a8164027-2b8a-4b38-9309-6770e2b3ce0f",
   "metadata": {},
   "source": [
    "### Plot a confusion matrix of the results"
   ]
  },
  {
   "cell_type": "code",
   "execution_count": 89,
   "id": "598eb66e-92a7-47b2-b445-b7e56ebb7d8c",
   "metadata": {},
   "outputs": [
    {
     "data": {
      "image/png": "[encoded data removed]",
      "text/plain": [
       "<Figure size 432x288 with 2 Axes>"
      ]
     },
     "metadata": {
      "needs_background": "light"
     },
     "output_type": "display_data"
    }
   ],
   "source": [
    "plot_confusion_matrix(tree, X_test_scaled, y_test, display_labels=['Not Expensive', 'Expensive']);"
   ]
  },
  {
   "cell_type": "code",
   "execution_count": null,
   "id": "36742b8d-839e-4046-a482-b8658b14c7bc",
   "metadata": {},
   "outputs": [],
   "source": []
  }
 ],
 "metadata": {
  "kernelspec": {
   "display_name": "Python 3 (ipykernel)",
   "language": "python",
   "name": "python3"
  },
  "language_info": {
   "codemirror_mode": {
    "name": "ipython",
    "version": 3
   },
   "file_extension": ".py",
   "mimetype": "text/x-python",
   "name": "python",
   "nbconvert_exporter": "python",
   "pygments_lexer": "ipython3",
   "version": "3.8.8"
  }
 },
 "nbformat": 4,
 "nbformat_minor": 5
}
