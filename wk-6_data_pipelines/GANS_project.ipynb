{
 "cells": [
  {
   "cell_type": "code",
   "execution_count": 2,
   "id": "a176cde8-41ff-4bf4-9da2-d2cde8f4123d",
   "metadata": {},
   "outputs": [],
   "source": [
    "import requests\n",
    "import datetime\n",
    "import pandas as pd\n",
    "import numpy as np\n",
    "from sqlalchemy import create_engine, engine, Table, Column, types, MetaData, exc\n",
    "\n",
    "from api_keys import *\n",
    "\n",
    "\n",
    "arrivals_tomorrow_dtypes = {\n",
    "    'dep_airport': types.NVARCHAR(length=255),\n",
    "    'sched_arr_loc_time': types.DateTime(),\n",
    "    'arr_terminal': types.INTEGER(),\n",
    "    'status': types.NVARCHAR(length=255),\n",
    "    'airline': types.NVARCHAR(length=255),\n",
    "    'aircraft': types.NVARCHAR(length=255),\n",
    "    'arr_airport_icoa': types.NVARCHAR(length=255),\n",
    "    'city': types.NVARCHAR(length=255),\n",
    "    'country': types.NVARCHAR(length=255),\n",
    "}\n",
    "\n",
    "weather_data_dtypes = {\n",
    "'clouds': types.INTEGER(),\n",
    "'visibility': types.INTEGER(),\n",
    "'city': types.NVARCHAR(length=255),\n",
    "'country': types.NVARCHAR(length=255),\n",
    "'latitude': types.Float(precision=4, asdecimal=True),\n",
    "'longitude': types.Float(precision=4, asdecimal=True),\n",
    "'wind_speed': types.Float(precision=4, asdecimal=True),\n",
    "'wind_deg': types.INTEGER(),\n",
    "'wind_gust': types.Float(precision=4, asdecimal=True),\n",
    "'temp': types.Float(precision=4, asdecimal=True),\n",
    "'feels_like': types.Float(precision=4, asdecimal=True),\n",
    "'temp_min': types.Float(precision=4, asdecimal=True),\n",
    "'temp_max': types.Float(precision=4, asdecimal=True),\n",
    "'pressure': types.INTEGER(),\n",
    "'sea_level': types.INTEGER(),\n",
    "'grnd_level': types.INTEGER(),\n",
    "'humidity': types.INTEGER(),\n",
    "'description': types.NVARCHAR(length=255),\n",
    "'snow': types.Float(precision=4, asdecimal=True),\n",
    "'rain': types.Float(precision=4, asdecimal=True),\n",
    "'datetime': types.DateTime(),\n",
    "}"
   ]
  },
  {
   "cell_type": "code",
   "execution_count": 3,
   "id": "1c902787-1b4e-4d88-b24d-8daba650f69b",
   "metadata": {},
   "outputs": [],
   "source": [
    "def get_weather_forecast_for_tomorrow(city, country_code):\n",
    "    owm_url = \"https://community-open-weather-map.p.rapidapi.com/forecast\"\n",
    "    querystring = {\"q\": f\"{city},{country_code}\"}\n",
    "    headers = {\n",
    "        'x-rapidapi-host': \"community-open-weather-map.p.rapidapi.com\",\n",
    "        'x-rapidapi-key': rapid_api_key\n",
    "        }\n",
    "\n",
    "    response = requests.request(\"GET\", owm_url, headers=headers, params=querystring)\n",
    "    \n",
    "    return response\n",
    "\n",
    "def extract_weather_data(weather_json):\n",
    "    weather_data = weather_json.json()['list'].copy()\n",
    "    for item in weather_data:\n",
    "        \n",
    "        # Extract city data \n",
    "        item['city'] = weather_json.json()['city']['name']\n",
    "        item['country'] = weather_json.json()['city']['country']\n",
    "        item['latitude'] = weather_json.json()['city']['coord']['lat']\n",
    "        item['longitude'] = weather_json.json()['city']['coord']['lon']\n",
    "        \n",
    "        # Extract data from nested dictionaries\n",
    "        for k, v in item['wind'].items():\n",
    "            item['wind_'+k] = v\n",
    "        for k, v in item['main'].items():\n",
    "            item[k] = v\n",
    "        for k, v in item['weather'][0].items():\n",
    "            item[k] = v\n",
    "        item['clouds'] = item['clouds']['all']\n",
    "        \n",
    "        # Extract data which may not exist\n",
    "        try: \n",
    "            item['snow'] = item['snow']['3h']\n",
    "        except: \n",
    "            item['snow'] = None\n",
    "        try: \n",
    "            item['rain'] = item['rain']['3h']\n",
    "        except: \n",
    "            item['rain'] = None\n",
    "        \n",
    "        # Transform units\n",
    "        item['datetime'] = datetime.datetime.strptime(item['dt_txt'], \"%Y-%m-%d %H:%M:%S\")\n",
    "        item['temp'] = item['temp'] - 273.15\n",
    "        item['feels_like'] = item['feels_like'] - 273.15\n",
    "        item['temp_min'] = item['temp_min'] - 273.15\n",
    "        item['temp_max'] = item['temp_max'] - 273.15\n",
    "        \n",
    "        # Remove unnecessary data\n",
    "        item.pop('wind')\n",
    "        item.pop('main')\n",
    "        item.pop('weather')\n",
    "        item.pop('dt')\n",
    "        item.pop('dt_txt')\n",
    "        item.pop('sys')\n",
    "        item.pop('icon')\n",
    "        item.pop('id')\n",
    "        item.pop('temp_kf')\n",
    "        item.pop('pop')\n",
    "    \n",
    "    return pd.DataFrame(weather_data)\n",
    "\n",
    "def get_airport_arrivals_for_tomorrow(airport_code='EDDB'):\n",
    "    \n",
    "    tomorrow = datetime.date.today() + datetime.timedelta(days=1)\n",
    "    year = tomorrow.strftime('%Y')\n",
    "    month = tomorrow.strftime('%m')\n",
    "    day = tomorrow.strftime('%d')\n",
    "    \n",
    "    aero_data_box_url = f\"https://aerodatabox.p.rapidapi.com/flights/airports/icao/{airport_code}/{year}-{month}-{day}T00:00/{year}-{month}-{day}T11:59\"\n",
    "    \n",
    "    querystring = {\"direction\":\"Arrival\", \"withCodeshared\":\"true\", \"withLocation\":\"false\"}\n",
    "    \n",
    "    headers = {\n",
    "        'x-rapidapi-host': \"aerodatabox.p.rapidapi.com\",\n",
    "        'x-rapidapi-key': rapid_api_key\n",
    "        }\n",
    "    response = requests.request(\"GET\", aero_data_box_url, headers=headers, params=querystring)\n",
    "    \n",
    "    return response\n",
    "\n",
    "def extract_flight_info(arrivals_response, city, country_code, airport_code='EDDB'):\n",
    "    \n",
    "    flight_data = []\n",
    "    \n",
    "    for flight in arrivals_response.json()['arrivals']:\n",
    "        \n",
    "        try: terminal = int(flight['movement']['terminal'])\n",
    "        except: terminal = None\n",
    "        \n",
    "        flight_data.append({\n",
    "            'dep_airport': flight['movement']['airport']['name'],\n",
    "            'sched_arr_loc_time': datetime.datetime.strptime(flight['movement']['scheduledTimeLocal'], \"%Y-%m-%d %H:%M+%S:%f\"),\n",
    "            'arr_terminal': terminal,\n",
    "            'status': flight['status'],\n",
    "            'airline': flight['airline']['name'],\n",
    "            'aircraft': flight['aircraft']['model'],\n",
    "            'arr_airport_icoa': airport_code,\n",
    "            'city': city,\n",
    "            'country': country_code,\n",
    "        })\n",
    "                      \n",
    "    return pd.DataFrame(flight_data)\n",
    "\n",
    "class DatabaseInterface:\n",
    "    def __init__(self,\n",
    "                 db_name,\n",
    "                 user,\n",
    "                 password,\n",
    "                 host='localhost',\n",
    "                 port=3306,\n",
    "                 driver='mysql+pymysql'):\n",
    "        \n",
    "        mysql_engine = create_engine(f'{driver}://{user}:{password}@{host}')\n",
    "        mysql_engine.execute(f\"CREATE DATABASE IF NOT EXISTS {db_name}\")\n",
    "        self.db_engine = create_engine(f\"{driver}://{user}:{password}@{host}:{port}/{db_name}\")\n",
    "        self.metadata = MetaData(self.db_engine)\n",
    "\n",
    "    def insert_data(self, df, table_name, dtype):\n",
    "        df.to_sql(table_name, self.db_engine, if_exists='append', index=False, dtype=dtype)"
   ]
  },
  {
   "cell_type": "code",
   "execution_count": 4,
   "id": "b3a96bc7-50c6-4d84-a5c6-5a8bc0e26d6c",
   "metadata": {},
   "outputs": [
    {
     "name": "stdout",
     "output_type": "stream",
     "text": [
      "   clouds  visibility  rain    city country  latitude  longitude  wind_speed  \\\n",
      "0      83       10000  0.10  Berlin      DE   52.5244    13.4105        8.07   \n",
      "1      92       10000   NaN  Berlin      DE   52.5244    13.4105        8.48   \n",
      "2     100       10000  0.13  Berlin      DE   52.5244    13.4105       10.19   \n",
      "3      98       10000   NaN  Berlin      DE   52.5244    13.4105       10.84   \n",
      "4      99        9887   NaN  Berlin      DE   52.5244    13.4105        9.09   \n",
      "\n",
      "   wind_deg  wind_gust  ...  feels_like  temp_min  temp_max  pressure  \\\n",
      "0       221      16.00  ...        2.92      7.13      7.41       983   \n",
      "1       223      17.36  ...        3.16      7.40      7.61       984   \n",
      "2       242      19.58  ...        2.71      7.39      7.39       986   \n",
      "3       254      21.75  ...       -0.41      5.16      5.16       987   \n",
      "4       269      17.68  ...       -1.63      3.88      3.88       990   \n",
      "\n",
      "   sea_level  grnd_level  humidity      description snow            datetime  \n",
      "0        983         983        86       light rain  NaN 2021-12-01 15:00:00  \n",
      "1        984         981        83  overcast clouds  NaN 2021-12-01 18:00:00  \n",
      "2        986         981        73       light rain  NaN 2021-12-01 21:00:00  \n",
      "3        987         982        65  overcast clouds  NaN 2021-12-02 00:00:00  \n",
      "4        990         985        71  overcast clouds  NaN 2021-12-02 03:00:00  \n",
      "\n",
      "[5 rows x 21 columns]\n",
      "         dep_airport  sched_arr_loc_time  arr_terminal   status     airline  \\\n",
      "0  Frankfurt-am-Main 2021-12-02 07:55:01           1.0  Unknown   Lufthansa   \n",
      "1        Saarbrücken 2021-12-02 08:10:01           0.0  Unknown  Danish Air   \n",
      "2         Luxembourg 2021-12-02 08:15:01           1.0  Unknown      Luxair   \n",
      "3           Helsinki 2021-12-02 08:20:01           1.0  Unknown     Finnair   \n",
      "4             Zurich 2021-12-02 08:45:01           1.0  Unknown       SWISS   \n",
      "\n",
      "                             aircraft arr_airport_icoa    city country  \n",
      "0                         Airbus A321             EDDB  Berlin      DE  \n",
      "1                              ATR 72             EDDB  Berlin      DE  \n",
      "2  Bombardier Dash 8 Q400 / DHC-8-400             EDDB  Berlin      DE  \n",
      "3                         Airbus A321             EDDB  Berlin      DE  \n",
      "4                         Airbus A320             EDDB  Berlin      DE  \n"
     ]
    }
   ],
   "source": [
    "airport_code='EDDB'\n",
    "city = 'Berlin'\n",
    "country_code = 'DE'\n",
    "\n",
    "#weather_response = get_weather_forecast_for_tomorrow(city, country_code)\n",
    "weather_data = extract_weather_data(weather_response)\n",
    "\n",
    "#arrivals_response = get_airport_arrivals_for_tomorrow(airport_code)\n",
    "arrivals_tomorrow = extract_flight_info(arrivals_response, city, country_code, airport_code='EDDB')\n",
    "\n",
    "dbi = DatabaseInterface(db_name='wbs_gans_project', \n",
    "                        user=aws_mysql_user, #'donal', #aws_mysql_user, \n",
    "                        password=aws_mysql_password, #'guest123', #aws_mysql_password, \n",
    "                        host=aws_mysql_host) #'localhost') #aws_mysql_host)\n",
    "\n",
    "dbi.insert_data(arrivals_tomorrow, 'arrivals_tomorrow', dtype=arrivals_tomorrow_dtypes)\n",
    "dbi.insert_data(weather_data, 'weather_forecast', dtype=weather_data_dtypes)\n",
    "\n",
    "print(weather_data.head(5))\n",
    "print(arrivals_tomorrow.head(5))"
   ]
  },
  {
   "cell_type": "code",
   "execution_count": 13,
   "id": "99ef0ef3-1bd0-4834-a60a-37c49463c337",
   "metadata": {},
   "outputs": [
    {
     "name": "stdout",
     "output_type": "stream",
     "text": [
      "200\n"
     ]
    }
   ],
   "source": [
    "from IPython.display import JSON\n",
    "JSON(weather_response.json())\n",
    "print(weather_response.json()['cod'])"
   ]
  },
  {
   "cell_type": "code",
   "execution_count": 9,
   "id": "2c1271c3-a1ad-4c92-b07d-9cfda66551a1",
   "metadata": {},
   "outputs": [
    {
     "data": {
      "application/json": {
       "arrivals": [
        {
         "aircraft": {
          "model": "Airbus A321",
          "reg": "D-AIDA"
         },
         "airline": {
          "name": "Lufthansa"
         },
         "codeshareStatus": "IsCodeshared",
         "isCargo": false,
         "movement": {
          "airport": {
           "iata": "FRA",
           "icao": "EDDF",
           "name": "Frankfurt-am-Main"
          },
          "quality": [
           "Basic"
          ],
          "scheduledTimeLocal": "2021-12-02 07:55+01:00",
          "scheduledTimeUtc": "2021-12-02 06:55Z",
          "terminal": "1"
         },
         "number": "LH 170",
         "status": "Unknown"
        },
        {
         "aircraft": {
          "model": "ATR 72"
         },
         "airline": {
          "name": "Danish Air"
         },
         "codeshareStatus": "Unknown",
         "isCargo": false,
         "movement": {
          "airport": {
           "iata": "SCN",
           "icao": "EDDR",
           "name": "Saarbrücken"
          },
          "quality": [
           "Basic"
          ],
          "scheduledTimeLocal": "2021-12-02 08:10+01:00",
          "scheduledTimeUtc": "2021-12-02 07:10Z",
          "terminal": "0"
         },
         "number": "DX 121",
         "status": "Unknown"
        },
        {
         "aircraft": {
          "model": "Bombardier Dash 8 Q400 / DHC-8-400"
         },
         "airline": {
          "name": "Luxair"
         },
         "codeshareStatus": "Unknown",
         "isCargo": false,
         "movement": {
          "airport": {
           "iata": "LUX",
           "icao": "ELLX",
           "name": "Luxembourg"
          },
          "quality": [
           "Basic"
          ],
          "scheduledTimeLocal": "2021-12-02 08:15+01:00",
          "scheduledTimeUtc": "2021-12-02 07:15Z",
          "terminal": "1"
         },
         "number": "LG 9471",
         "status": "Unknown"
        },
        {
         "aircraft": {
          "model": "Airbus A321"
         },
         "airline": {
          "name": "Finnair"
         },
         "codeshareStatus": "Unknown",
         "isCargo": false,
         "movement": {
          "airport": {
           "iata": "HEL",
           "icao": "EFHK",
           "name": "Helsinki"
          },
          "quality": [
           "Basic"
          ],
          "scheduledTimeLocal": "2021-12-02 08:20+01:00",
          "scheduledTimeUtc": "2021-12-02 07:20Z",
          "terminal": "1"
         },
         "number": "AY 1431",
         "status": "Unknown"
        },
        {
         "aircraft": {
          "model": "Airbus A320"
         },
         "airline": {
          "name": "SWISS"
         },
         "codeshareStatus": "Unknown",
         "isCargo": false,
         "movement": {
          "airport": {
           "iata": "ZRH",
           "icao": "LSZH",
           "name": "Zurich"
          },
          "quality": [
           "Basic"
          ],
          "scheduledTimeLocal": "2021-12-02 08:45+01:00",
          "scheduledTimeUtc": "2021-12-02 07:45Z",
          "terminal": "1"
         },
         "number": "LX 974",
         "status": "Unknown"
        },
        {
         "aircraft": {
          "model": "Airbus A320",
          "reg": "D-AIWK"
         },
         "airline": {
          "name": "Lufthansa"
         },
         "codeshareStatus": "IsCodeshared",
         "isCargo": false,
         "movement": {
          "airport": {
           "iata": "FRA",
           "icao": "EDDF",
           "name": "Frankfurt-am-Main"
          },
          "quality": [
           "Basic"
          ],
          "scheduledTimeLocal": "2021-12-02 08:55+01:00",
          "scheduledTimeUtc": "2021-12-02 07:55Z",
          "terminal": "1"
         },
         "number": "LH 174",
         "status": "Unknown"
        },
        {
         "aircraft": {
          "model": "Airbus A318"
         },
         "airline": {
          "name": "Air France"
         },
         "codeshareStatus": "Unknown",
         "isCargo": false,
         "movement": {
          "airport": {
           "iata": "ORY",
           "icao": "LFPO",
           "name": "Paris"
          },
          "quality": [
           "Basic"
          ],
          "scheduledTimeLocal": "2021-12-02 08:55+01:00",
          "scheduledTimeUtc": "2021-12-02 07:55Z",
          "terminal": "1"
         },
         "number": "AF 7354",
         "status": "Unknown"
        },
        {
         "aircraft": {
          "model": "Airbus A320 NEO"
         },
         "airline": {
          "name": "Lufthansa"
         },
         "codeshareStatus": "IsCodeshared",
         "isCargo": false,
         "movement": {
          "airport": {
           "iata": "MUC",
           "icao": "EDDM",
           "name": "Munich"
          },
          "quality": [
           "Basic"
          ],
          "scheduledTimeLocal": "2021-12-02 08:10+01:00",
          "scheduledTimeUtc": "2021-12-02 07:10Z",
          "terminal": "1"
         },
         "number": "LH 1928",
         "status": "Unknown"
        },
        {
         "aircraft": {
          "model": "Boeing 737-800"
         },
         "airline": {
          "name": "Ryanair"
         },
         "codeshareStatus": "Unknown",
         "isCargo": false,
         "movement": {
          "airport": {
           "iata": "MAD",
           "icao": "LEMD",
           "name": "Madrid"
          },
          "quality": [
           "Basic"
          ],
          "scheduledTimeLocal": "2021-12-02 09:25+01:00",
          "scheduledTimeUtc": "2021-12-02 08:25Z"
         },
         "number": "FR 2526",
         "status": "Unknown"
        },
        {
         "aircraft": {
          "model": "Airbus A319"
         },
         "airline": {
          "name": "easyJet"
         },
         "codeshareStatus": "Unknown",
         "isCargo": false,
         "movement": {
          "airport": {
           "iata": "BSL",
           "icao": "LFSB",
           "name": "Bâle/Mulhouse"
          },
          "quality": [
           "Basic"
          ],
          "scheduledTimeLocal": "2021-12-02 07:55+01:00",
          "scheduledTimeUtc": "2021-12-02 06:55Z",
          "terminal": "1"
         },
         "number": "U2 5632",
         "status": "Unknown"
        },
        {
         "aircraft": {
          "model": "Boeing 737-800"
         },
         "airline": {
          "name": "Ryanair"
         },
         "codeshareStatus": "Unknown",
         "isCargo": false,
         "movement": {
          "airport": {
           "iata": "BUD",
           "icao": "LHBP",
           "name": "Budapest"
          },
          "quality": [
           "Basic"
          ],
          "scheduledTimeLocal": "2021-12-02 09:30+01:00",
          "scheduledTimeUtc": "2021-12-02 08:30Z"
         },
         "number": "FR 197",
         "status": "Unknown"
        },
        {
         "aircraft": {
          "model": "Airbus A330-300"
         },
         "airline": {
          "name": "Turkish"
         },
         "codeshareStatus": "Unknown",
         "isCargo": false,
         "movement": {
          "airport": {
           "iata": "IST",
           "icao": "LTFM",
           "name": "Istanbul"
          },
          "quality": [
           "Basic"
          ],
          "scheduledTimeLocal": "2021-12-02 09:35+01:00",
          "scheduledTimeUtc": "2021-12-02 08:35Z",
          "terminal": "1"
         },
         "number": "TK 1721",
         "status": "Unknown"
        },
        {
         "aircraft": {
          "model": "Airbus A320"
         },
         "airline": {
          "name": "Eurowings"
         },
         "codeshareStatus": "Unknown",
         "isCargo": false,
         "movement": {
          "airport": {
           "iata": "CGN",
           "icao": "EDDK",
           "name": "Cologne"
          },
          "quality": [
           "Basic"
          ],
          "scheduledTimeLocal": "2021-12-02 09:40+01:00",
          "scheduledTimeUtc": "2021-12-02 08:40Z",
          "terminal": "1"
         },
         "number": "EW 8059",
         "status": "Unknown"
        },
        {
         "aircraft": {
          "model": "Airbus A320"
         },
         "airline": {
          "name": "Air Serbia"
         },
         "codeshareStatus": "Unknown",
         "isCargo": false,
         "movement": {
          "airport": {
           "iata": "BEG",
           "icao": "LYBE",
           "name": "Belgrade"
          },
          "quality": [
           "Basic"
          ],
          "scheduledTimeLocal": "2021-12-02 09:00+01:00",
          "scheduledTimeUtc": "2021-12-02 08:00Z",
          "terminal": "1"
         },
         "number": "JU 350",
         "status": "Unknown"
        },
        {
         "aircraft": {
          "model": "Boeing 737-800"
         },
         "airline": {
          "name": "Ryanair"
         },
         "codeshareStatus": "Unknown",
         "isCargo": false,
         "movement": {
          "airport": {
           "iata": "RIX",
           "icao": "EVRA",
           "name": "Riga"
          },
          "quality": [
           "Basic"
          ],
          "scheduledTimeLocal": "2021-12-02 09:45+01:00",
          "scheduledTimeUtc": "2021-12-02 08:45Z"
         },
         "number": "FR 2600",
         "status": "Unknown"
        },
        {
         "aircraft": {
          "model": "Airbus A319"
         },
         "airline": {
          "name": "easyJet"
         },
         "codeshareStatus": "Unknown",
         "isCargo": false,
         "movement": {
          "airport": {
           "name": "Aarhus"
          },
          "quality": [
           "Basic"
          ],
          "scheduledTimeLocal": "2021-12-02 09:45+01:00",
          "scheduledTimeUtc": "2021-12-02 08:45Z",
          "terminal": "1"
         },
         "number": "U2 5698",
         "status": "Unknown"
        },
        {
         "aircraft": {
          "model": "Boeing 737-800"
         },
         "airline": {
          "name": "Norwegian Air Shuttle"
         },
         "codeshareStatus": "Unknown",
         "isCargo": false,
         "movement": {
          "airport": {
           "iata": "OSL",
           "icao": "ENGM",
           "name": "Oslo"
          },
          "quality": [
           "Basic"
          ],
          "scheduledTimeLocal": "2021-12-02 09:10+01:00",
          "scheduledTimeUtc": "2021-12-02 08:10Z",
          "terminal": "1"
         },
         "number": "DY 1102",
         "status": "Unknown"
        },
        {
         "aircraft": {
          "model": "Boeing 787-8"
         },
         "airline": {
          "name": "Scoot"
         },
         "codeshareStatus": "Unknown",
         "isCargo": false,
         "movement": {
          "airport": {
           "iata": "ATH",
           "icao": "LGAV",
           "name": "Athens"
          },
          "quality": [
           "Basic"
          ],
          "scheduledTimeLocal": "2021-12-02 10:20+01:00",
          "scheduledTimeUtc": "2021-12-02 09:20Z",
          "terminal": "1"
         },
         "number": "TR 722",
         "status": "Unknown"
        },
        {
         "aircraft": {
          "model": "Embraer 195"
         },
         "airline": {
          "name": "Austrian"
         },
         "codeshareStatus": "Unknown",
         "isCargo": false,
         "movement": {
          "airport": {
           "iata": "VIE",
           "icao": "LOWW",
           "name": "Vienna"
          },
          "quality": [
           "Basic"
          ],
          "scheduledTimeLocal": "2021-12-02 10:25+01:00",
          "scheduledTimeUtc": "2021-12-02 09:25Z",
          "terminal": "1"
         },
         "number": "OS 225",
         "status": "Unknown"
        },
        {
         "aircraft": {
          "model": "Embraer 190"
         },
         "airline": {
          "name": "British Airways"
         },
         "codeshareStatus": "IsCodeshared",
         "isCargo": false,
         "movement": {
          "airport": {
           "iata": "LCY",
           "icao": "EGLC",
           "name": "London"
          },
          "quality": [
           "Basic"
          ],
          "scheduledTimeLocal": "2021-12-02 10:25+01:00",
          "scheduledTimeUtc": "2021-12-02 09:25Z",
          "terminal": "1"
         },
         "number": "BA 8491",
         "status": "Unknown"
        },
        {
         "aircraft": {
          "model": "Bombardier CRJ900",
          "reg": "EI-FPW"
         },
         "airline": {
          "name": "SAS"
         },
         "codeshareStatus": "Unknown",
         "isCargo": false,
         "movement": {
          "airport": {
           "iata": "ARN",
           "icao": "ESSA",
           "name": "Stockholm"
          },
          "quality": [
           "Basic"
          ],
          "scheduledTimeLocal": "2021-12-02 10:30+01:00",
          "scheduledTimeUtc": "2021-12-02 09:30Z",
          "terminal": "1"
         },
         "number": "SK 2677",
         "status": "Unknown"
        },
        {
         "aircraft": {
          "model": "Boeing 737-700",
          "reg": "PH-BXY"
         },
         "airline": {
          "name": "KLM"
         },
         "codeshareStatus": "IsOperator",
         "isCargo": false,
         "movement": {
          "airport": {
           "iata": "AMS",
           "icao": "EHAM",
           "name": "Amsterdam"
          },
          "quality": [
           "Basic"
          ],
          "scheduledTimeLocal": "2021-12-02 09:25+01:00",
          "scheduledTimeUtc": "2021-12-02 08:25Z",
          "terminal": "1"
         },
         "number": "KL 1821",
         "status": "Unknown"
        },
        {
         "aircraft": {
          "model": "Boeing 737-800"
         },
         "airline": {
          "name": "Ryanair"
         },
         "codeshareStatus": "Unknown",
         "isCargo": false,
         "movement": {
          "airport": {
           "iata": "STN",
           "icao": "EGSS",
           "name": "London"
          },
          "quality": [
           "Basic"
          ],
          "scheduledTimeLocal": "2021-12-02 10:40+01:00",
          "scheduledTimeUtc": "2021-12-02 09:40Z"
         },
         "number": "FR 145",
         "status": "Unknown"
        },
        {
         "aircraft": {
          "model": "Airbus A320",
          "reg": "D-AIUE"
         },
         "airline": {
          "name": "Lufthansa"
         },
         "codeshareStatus": "IsCodeshared",
         "isCargo": false,
         "movement": {
          "airport": {
           "iata": "FRA",
           "icao": "EDDF",
           "name": "Frankfurt-am-Main"
          },
          "quality": [
           "Basic"
          ],
          "scheduledTimeLocal": "2021-12-02 09:55+01:00",
          "scheduledTimeUtc": "2021-12-02 08:55Z",
          "terminal": "1"
         },
         "number": "LH 176",
         "status": "Unknown"
        },
        {
         "aircraft": {
          "model": "Airbus A320"
         },
         "airline": {
          "name": "Aegean"
         },
         "codeshareStatus": "Unknown",
         "isCargo": false,
         "movement": {
          "airport": {
           "iata": "ATH",
           "icao": "LGAV",
           "name": "Athens"
          },
          "quality": [
           "Basic"
          ],
          "scheduledTimeLocal": "2021-12-02 10:50+01:00",
          "scheduledTimeUtc": "2021-12-02 09:50Z",
          "terminal": "1"
         },
         "number": "A3 820",
         "status": "Unknown"
        },
        {
         "aircraft": {
          "model": "Airbus A320"
         },
         "airline": {
          "name": "Pegasus"
         },
         "codeshareStatus": "Unknown",
         "isCargo": false,
         "movement": {
          "airport": {
           "iata": "SAW",
           "icao": "LTFJ",
           "name": "Istanbul"
          },
          "quality": [
           "Basic"
          ],
          "scheduledTimeLocal": "2021-12-02 11:00+01:00",
          "scheduledTimeUtc": "2021-12-02 10:00Z",
          "terminal": "0"
         },
         "number": "PC 977",
         "status": "Unknown"
        },
        {
         "aircraft": {
          "model": "Boeing 737-800"
         },
         "airline": {
          "name": "Ryanair"
         },
         "codeshareStatus": "Unknown",
         "isCargo": false,
         "movement": {
          "airport": {
           "iata": "CIA",
           "icao": "LIRA",
           "name": "Roma"
          },
          "quality": [
           "Basic"
          ],
          "scheduledTimeLocal": "2021-12-02 11:05+01:00",
          "scheduledTimeUtc": "2021-12-02 10:05Z"
         },
         "number": "FR 135",
         "status": "Unknown"
        },
        {
         "aircraft": {
          "model": "Airbus A320"
         },
         "airline": {
          "name": "Iberia"
         },
         "codeshareStatus": "Unknown",
         "isCargo": false,
         "movement": {
          "airport": {
           "iata": "MAD",
           "icao": "LEMD",
           "name": "Madrid"
          },
          "quality": [
           "Basic"
          ],
          "scheduledTimeLocal": "2021-12-02 11:05+01:00",
          "scheduledTimeUtc": "2021-12-02 10:05Z",
          "terminal": "1"
         },
         "number": "IB 3676",
         "status": "Unknown"
        },
        {
         "aircraft": {
          "model": "Boeing 737-900",
          "reg": "PH-BCK"
         },
         "airline": {
          "name": "KLM"
         },
         "codeshareStatus": "IsOperator",
         "isCargo": false,
         "movement": {
          "airport": {
           "iata": "AMS",
           "icao": "EHAM",
           "name": "Amsterdam"
          },
          "quality": [
           "Basic"
          ],
          "scheduledTimeLocal": "2021-12-02 11:05+01:00",
          "scheduledTimeUtc": "2021-12-02 10:05Z",
          "terminal": "1"
         },
         "number": "KL 1823",
         "status": "Unknown"
        },
        {
         "aircraft": {
          "model": "Airbus A319"
         },
         "airline": {
          "name": "Eurowings"
         },
         "codeshareStatus": "Unknown",
         "isCargo": false,
         "movement": {
          "airport": {
           "name": "Duesseldorf"
          },
          "quality": [
           "Basic"
          ],
          "scheduledTimeLocal": "2021-12-02 07:35+01:00",
          "scheduledTimeUtc": "2021-12-02 06:35Z",
          "terminal": "1"
         },
         "number": "EW 9048",
         "status": "Unknown"
        },
        {
         "aircraft": {
          "model": "Airbus A320"
         },
         "airline": {
          "name": "Eurowings"
         },
         "codeshareStatus": "Unknown",
         "isCargo": false,
         "movement": {
          "airport": {
           "iata": "STR",
           "icao": "EDDS",
           "name": "Stuttgart"
          },
          "quality": [
           "Basic"
          ],
          "scheduledTimeLocal": "2021-12-02 07:30+01:00",
          "scheduledTimeUtc": "2021-12-02 06:30Z",
          "terminal": "1"
         },
         "number": "EW 2002",
         "status": "Unknown"
        },
        {
         "aircraft": {
          "model": "Airbus A320"
         },
         "airline": {
          "name": "Lufthansa"
         },
         "codeshareStatus": "IsCodeshared",
         "isCargo": false,
         "movement": {
          "airport": {
           "iata": "MUC",
           "icao": "EDDM",
           "name": "Munich"
          },
          "quality": [
           "Basic"
          ],
          "scheduledTimeLocal": "2021-12-02 09:40+01:00",
          "scheduledTimeUtc": "2021-12-02 08:40Z",
          "terminal": "1"
         },
         "number": "LH 1930",
         "status": "Unknown"
        },
        {
         "aircraft": {
          "model": "Airbus A220-300"
         },
         "airline": {
          "name": "Air Baltic"
         },
         "codeshareStatus": "Unknown",
         "isCargo": false,
         "movement": {
          "airport": {
           "iata": "RIX",
           "icao": "EVRA",
           "name": "Riga"
          },
          "quality": [
           "Basic"
          ],
          "scheduledTimeLocal": "2021-12-02 07:55+01:00",
          "scheduledTimeUtc": "2021-12-02 06:55Z",
          "terminal": "1"
         },
         "number": "BT 211",
         "status": "Unknown"
        },
        {
         "aircraft": {
          "model": "Airbus A319"
         },
         "airline": {
          "name": "Brussels"
         },
         "codeshareStatus": "Unknown",
         "isCargo": false,
         "movement": {
          "airport": {
           "iata": "BRU",
           "icao": "EBBR",
           "name": "Brussels"
          },
          "quality": [
           "Basic"
          ],
          "scheduledTimeLocal": "2021-12-02 11:15+01:00",
          "scheduledTimeUtc": "2021-12-02 10:15Z",
          "terminal": "1"
         },
         "number": "SN 2581",
         "status": "Unknown"
        },
        {
         "aircraft": {
          "model": "Airbus A320"
         },
         "airline": {
          "name": "easyJet"
         },
         "codeshareStatus": "Unknown",
         "isCargo": false,
         "movement": {
          "airport": {
           "name": "Geneva"
          },
          "quality": [
           "Basic"
          ],
          "scheduledTimeLocal": "2021-12-02 11:20+01:00",
          "scheduledTimeUtc": "2021-12-02 10:20Z",
          "terminal": "1"
         },
         "number": "U2 1591",
         "status": "Unknown"
        },
        {
         "aircraft": {
          "model": "Airbus A320"
         },
         "airline": {
          "name": "easyJet"
         },
         "codeshareStatus": "Unknown",
         "isCargo": false,
         "movement": {
          "airport": {
           "iata": "MXP",
           "icao": "LIMC",
           "name": "Milan"
          },
          "quality": [
           "Basic"
          ],
          "scheduledTimeLocal": "2021-12-02 11:25+01:00",
          "scheduledTimeUtc": "2021-12-02 10:25Z",
          "terminal": "1"
         },
         "number": "U2 4672",
         "status": "Unknown"
        },
        {
         "aircraft": {
          "model": "Bombardier Dash 8 Q400 / DHC-8-400"
         },
         "airline": {
          "name": "LOT - Polish"
         },
         "codeshareStatus": "Unknown",
         "isCargo": false,
         "movement": {
          "airport": {
           "iata": "WAW",
           "icao": "EPWA",
           "name": "Warsaw"
          },
          "quality": [
           "Basic"
          ],
          "scheduledTimeLocal": "2021-12-02 11:35+01:00",
          "scheduledTimeUtc": "2021-12-02 10:35Z",
          "terminal": "1"
         },
         "number": "LO 385",
         "status": "Unknown"
        },
        {
         "aircraft": {
          "model": "Airbus A320"
         },
         "airline": {
          "name": "easyJet"
         },
         "codeshareStatus": "Unknown",
         "isCargo": false,
         "movement": {
          "airport": {
           "iata": "CDG",
           "icao": "LFPG",
           "name": "Paris"
          },
          "quality": [
           "Basic"
          ],
          "scheduledTimeLocal": "2021-12-02 11:35+01:00",
          "scheduledTimeUtc": "2021-12-02 10:35Z",
          "terminal": "1"
         },
         "number": "U2 5652",
         "status": "Unknown"
        },
        {
         "aircraft": {
          "model": "Airbus A319"
         },
         "airline": {
          "name": "Air France"
         },
         "codeshareStatus": "Unknown",
         "isCargo": false,
         "movement": {
          "airport": {
           "iata": "CDG",
           "icao": "LFPG",
           "name": "Paris"
          },
          "quality": [
           "Basic"
          ],
          "scheduledTimeLocal": "2021-12-02 11:40+01:00",
          "scheduledTimeUtc": "2021-12-02 10:40Z",
          "terminal": "1"
         },
         "number": "AF 1734",
         "status": "Unknown"
        },
        {
         "aircraft": {
          "model": "Airbus A320"
         },
         "airline": {
          "name": "British Airways"
         },
         "codeshareStatus": "IsCodeshared",
         "isCargo": false,
         "movement": {
          "airport": {
           "iata": "LHR",
           "icao": "EGLL",
           "name": "London"
          },
          "quality": [
           "Basic"
          ],
          "scheduledTimeLocal": "2021-12-02 11:40+01:00",
          "scheduledTimeUtc": "2021-12-02 10:40Z",
          "terminal": "1"
         },
         "number": "BA 992",
         "status": "Unknown"
        },
        {
         "aircraft": {
          "model": "Boeing 737-800"
         },
         "airline": {
          "name": "Norwegian Air International"
         },
         "codeshareStatus": "Unknown",
         "isCargo": false,
         "movement": {
          "airport": {
           "iata": "CPH",
           "icao": "EKCH",
           "name": "Copenhagen"
          },
          "quality": [
           "Basic"
          ],
          "scheduledTimeLocal": "2021-12-02 11:45+01:00",
          "scheduledTimeUtc": "2021-12-02 10:45Z",
          "terminal": "1"
         },
         "number": "D8 3302",
         "status": "Unknown"
        },
        {
         "aircraft": {
          "model": "Boeing 737-800"
         },
         "airline": {
          "name": "Ryanair"
         },
         "codeshareStatus": "Unknown",
         "isCargo": false,
         "movement": {
          "airport": {
           "iata": "SOF",
           "icao": "LBSF",
           "name": "Sofia"
          },
          "quality": [
           "Basic"
          ],
          "scheduledTimeLocal": "2021-12-02 11:45+01:00",
          "scheduledTimeUtc": "2021-12-02 10:45Z"
         },
         "number": "FR 1595",
         "status": "Unknown"
        },
        {
         "aircraft": {
          "model": "Boeing 737-800"
         },
         "airline": {
          "name": "Jet2"
         },
         "codeshareStatus": "Unknown",
         "isCargo": false,
         "movement": {
          "airport": {
           "iata": "NCL",
           "icao": "EGNT",
           "name": "Newcastle upon Tyne"
          },
          "quality": [
           "Basic"
          ],
          "scheduledTimeLocal": "2021-12-02 11:50+01:00",
          "scheduledTimeUtc": "2021-12-02 10:50Z",
          "terminal": "0"
         },
         "number": "LS 4067",
         "status": "Unknown"
        },
        {
         "aircraft": {
          "model": "Airbus A320"
         },
         "airline": {
          "name": "easyJet"
         },
         "codeshareStatus": "Unknown",
         "isCargo": false,
         "movement": {
          "airport": {
           "iata": "LGW",
           "icao": "EGKK",
           "name": "London"
          },
          "quality": [
           "Basic"
          ],
          "scheduledTimeLocal": "2021-12-02 11:55+01:00",
          "scheduledTimeUtc": "2021-12-02 10:55Z",
          "terminal": "1"
         },
         "number": "U2 8209",
         "status": "Unknown"
        },
        {
         "aircraft": {
          "model": "Airbus A321",
          "reg": "D-AIDE"
         },
         "airline": {
          "name": "Lufthansa"
         },
         "codeshareStatus": "IsCodeshared",
         "isCargo": false,
         "movement": {
          "airport": {
           "iata": "FRA",
           "icao": "EDDF",
           "name": "Frankfurt-am-Main"
          },
          "quality": [
           "Basic"
          ],
          "scheduledTimeLocal": "2021-12-02 11:55+01:00",
          "scheduledTimeUtc": "2021-12-02 10:55Z",
          "terminal": "1"
         },
         "number": "LH 180",
         "status": "Unknown"
        },
        {
         "aircraft": {
          "model": "Boeing 737-800"
         },
         "airline": {
          "name": "Eurowings"
         },
         "codeshareStatus": "Unknown",
         "isCargo": false,
         "movement": {
          "airport": {
           "iata": "CGN",
           "icao": "EDDK",
           "name": "Cologne"
          },
          "quality": [
           "Basic"
          ],
          "scheduledTimeLocal": "2021-12-02 07:25+01:00",
          "scheduledTimeUtc": "2021-12-02 06:25Z",
          "terminal": "1"
         },
         "number": "EW 12",
         "status": "Unknown"
        },
        {
         "aircraft": {
          "model": "Airbus A319"
         },
         "airline": {
          "name": "easyJet"
         },
         "codeshareStatus": "Unknown",
         "isCargo": false,
         "movement": {
          "airport": {
           "iata": "AMS",
           "icao": "EHAM",
           "name": "Amsterdam"
          },
          "quality": [
           "Basic"
          ],
          "scheduledTimeLocal": "2021-12-02 10:35+01:00",
          "scheduledTimeUtc": "2021-12-02 09:35Z",
          "terminal": "1"
         },
         "number": "U2 5102",
         "status": "Unknown"
        },
        {
         "aircraft": {
          "model": "Boeing 737-800"
         },
         "airline": {
          "name": "Ryanair"
         },
         "codeshareStatus": "Unknown",
         "isCargo": false,
         "movement": {
          "airport": {
           "iata": "BGY",
           "icao": "LIME",
           "name": "Bergamo"
          },
          "quality": [
           "Basic"
          ],
          "scheduledTimeLocal": "2021-12-02 10:40+01:00",
          "scheduledTimeUtc": "2021-12-02 09:40Z"
         },
         "number": "FR 4731",
         "status": "Unknown"
        }
       ]
      },
      "text/plain": [
       "<IPython.core.display.JSON object>"
      ]
     },
     "execution_count": 9,
     "metadata": {
      "application/json": {
       "expanded": false,
       "root": "root"
      }
     },
     "output_type": "execute_result"
    }
   ],
   "source": [
    "JSON(arrivals_response.json())"
   ]
  },
  {
   "cell_type": "code",
   "execution_count": null,
   "id": "18e5eb84-d133-4286-90f9-2ddfa9292b05",
   "metadata": {},
   "outputs": [],
   "source": []
  },
  {
   "cell_type": "code",
   "execution_count": null,
   "id": "67891c5a-da14-4c31-9438-3a2f2858b530",
   "metadata": {},
   "outputs": [],
   "source": []
  },
  {
   "cell_type": "code",
   "execution_count": null,
   "id": "81f78cda-e5ca-4c17-960e-3b12f67caf3b",
   "metadata": {},
   "outputs": [],
   "source": []
  },
  {
   "cell_type": "code",
   "execution_count": null,
   "id": "2ff88357-a970-4d8b-963b-17a733f41909",
   "metadata": {},
   "outputs": [],
   "source": []
  }
 ],
 "metadata": {
  "kernelspec": {
   "display_name": "Python 3 (ipykernel)",
   "language": "python",
   "name": "python3"
  },
  "language_info": {
   "codemirror_mode": {
    "name": "ipython",
    "version": 3
   },
   "file_extension": ".py",
   "mimetype": "text/x-python",
   "name": "python",
   "nbconvert_exporter": "python",
   "pygments_lexer": "ipython3",
   "version": "3.8.8"
  }
 },
 "nbformat": 4,
 "nbformat_minor": 5
}
