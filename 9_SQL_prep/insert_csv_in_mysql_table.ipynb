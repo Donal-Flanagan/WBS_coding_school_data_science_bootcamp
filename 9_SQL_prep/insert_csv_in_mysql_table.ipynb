{
 "cells": [
  {
   "cell_type": "code",
   "execution_count": 1,
   "id": "47820a54-8af4-4cfd-b3fe-0caab4b5a848",
   "metadata": {},
   "outputs": [],
   "source": [
    "import sqlalchemy"
   ]
  },
  {
   "cell_type": "code",
   "execution_count": null,
   "id": "bd8fff92-1981-471b-9979-1957a540713e",
   "metadata": {},
   "outputs": [],
   "source": [
    "database=\"iss_workshop\"\n",
    "host=\"127.0.0.1\"\n",
    "user=\"donal\"\n",
    "password=\"guest123\"\n",
    "port=3306\n",
    "con = f'mysql+pymysql://{user}:{password}@{host}:{port}/{database}'"
   ]
  }
 ],
 "metadata": {
  "kernelspec": {
   "display_name": "Python 3 (ipykernel)",
   "language": "python",
   "name": "python3"
  },
  "language_info": {
   "codemirror_mode": {
    "name": "ipython",
    "version": 3
   },
   "file_extension": ".py",
   "mimetype": "text/x-python",
   "name": "python",
   "nbconvert_exporter": "python",
   "pygments_lexer": "ipython3",
   "version": "3.8.8"
  }
 },
 "nbformat": 4,
 "nbformat_minor": 5
}
