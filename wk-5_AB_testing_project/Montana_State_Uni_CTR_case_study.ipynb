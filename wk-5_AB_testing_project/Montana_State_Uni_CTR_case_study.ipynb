{
 "cells": [
  {
   "cell_type": "code",
   "execution_count": 1,
   "id": "5f1af6b8-3e80-4318-a3c2-e9f520d682bd",
   "metadata": {},
   "outputs": [],
   "source": [
    "from scipy import stats\n",
    "import numpy as np\n",
    "import pandas as pd"
   ]
  },
  {
   "cell_type": "code",
   "execution_count": 11,
   "id": "3e11a7e2-f811-42f2-b191-5e0d609d2efd",
   "metadata": {},
   "outputs": [],
   "source": [
    "pd.options.display.max_rows = 500\n",
    "\n",
    "file_names = {\n",
    "    \"interact\": \"Homepage Version 1 - Interact, 5-29-2013\",\n",
    "    \"connect\": \"Homepage Version 2 - Connect, 5-29-2013\",\n",
    "    \"learn\": \"Homepage Version 3 - Learn, 5-29-2013\",\n",
    "    \"help\": \"Homepage Version 4 - Help, 5-29-2013\",\n",
    "    \"services\": \"Homepage Version 5 - Services, 5-29-2013\",\n",
    "}\n",
    "\n",
    "path = '../data/CrazyEgg/'\n",
    "interact_df = pd.read_csv(path + file_names['interact'] + f\"/Element list {file_names['interact']}.csv\")\n",
    "connect_df = pd.read_csv(path + file_names['connect'] + f\"/Element list {file_names['connect']}.csv\")\n",
    "learn_df = pd.read_csv(path + file_names['learn'] + f\"/Element list {file_names['learn']}.csv\")\n",
    "help_df = pd.read_csv(path + file_names['help'] + f\"/Element list {file_names['help']}.csv\")\n",
    "services_df = pd.read_csv(path + file_names['services'] + f\"/Element list {file_names['services']}.csv\")"
   ]
  },
  {
   "cell_type": "code",
   "execution_count": 116,
   "id": "f4bdf7b2-b401-4f8d-afc9-760916d4b2cb",
   "metadata": {},
   "outputs": [
    {
     "data": {
      "text/html": [
       "<div>\n",
       "<style scoped>\n",
       "    .dataframe tbody tr th:only-of-type {\n",
       "        vertical-align: middle;\n",
       "    }\n",
       "\n",
       "    .dataframe tbody tr th {\n",
       "        vertical-align: top;\n",
       "    }\n",
       "\n",
       "    .dataframe thead th {\n",
       "        text-align: right;\n",
       "    }\n",
       "</style>\n",
       "<table border=\"1\" class=\"dataframe\">\n",
       "  <thead>\n",
       "    <tr style=\"text-align: right;\">\n",
       "      <th></th>\n",
       "      <th>home_page_visits</th>\n",
       "      <th>click_throughs</th>\n",
       "      <th>ctr</th>\n",
       "    </tr>\n",
       "  </thead>\n",
       "  <tbody>\n",
       "    <tr>\n",
       "      <th>Services</th>\n",
       "      <td>2064</td>\n",
       "      <td>45</td>\n",
       "      <td>0.021802</td>\n",
       "    </tr>\n",
       "    <tr>\n",
       "      <th>Connect</th>\n",
       "      <td>2742</td>\n",
       "      <td>53</td>\n",
       "      <td>0.019329</td>\n",
       "    </tr>\n",
       "    <tr>\n",
       "      <th>Help</th>\n",
       "      <td>3180</td>\n",
       "      <td>38</td>\n",
       "      <td>0.011950</td>\n",
       "    </tr>\n",
       "    <tr>\n",
       "      <th>Learn</th>\n",
       "      <td>2747</td>\n",
       "      <td>21</td>\n",
       "      <td>0.007645</td>\n",
       "    </tr>\n",
       "    <tr>\n",
       "      <th>Interact</th>\n",
       "      <td>10283</td>\n",
       "      <td>42</td>\n",
       "      <td>0.004084</td>\n",
       "    </tr>\n",
       "  </tbody>\n",
       "</table>\n",
       "</div>"
      ],
      "text/plain": [
       "          home_page_visits  click_throughs       ctr\n",
       "Services              2064              45  0.021802\n",
       "Connect               2742              53  0.019329\n",
       "Help                  3180              38  0.011950\n",
       "Learn                 2747              21  0.007645\n",
       "Interact             10283              42  0.004084"
      ]
     },
     "execution_count": 116,
     "metadata": {},
     "output_type": "execute_result"
    }
   ],
   "source": [
    "interact_home_page_visits = 10283\n",
    "interact_clicks = interact_df.loc[interact_df.Name=='INTERACT', 'No. clicks'].values[0]\n",
    "\n",
    "connect_home_page_visits = 2742\n",
    "connect_clicks = connect_df.loc[connect_df.Name=='CONNECT', 'No. clicks'].values[0]\n",
    "\n",
    "learn_home_page_visits = 2747\n",
    "learn_clicks = learn_df.loc[learn_df.Name=='LEARN', 'No. clicks'].values[0]\n",
    "\n",
    "help_home_page_visits = 3180\n",
    "help_clicks = help_df.loc[help_df.Name=='HELP', 'No. clicks'].values[0]\n",
    "\n",
    "services_home_page_visits = 2064\n",
    "services_clicks = services_df.loc[services_df.Name=='SERVICES', 'No. clicks'].values[0]\n",
    "\n",
    "button_texts = ['Interact', 'Connect', 'Learn', 'Help', 'Services']\n",
    "home_page_visits = [interact_home_page_visits, connect_home_page_visits, learn_home_page_visits, help_home_page_visits, services_home_page_visits]\n",
    "clicks_throughs = [interact_clicks, connect_clicks, learn_clicks, help_clicks, services_clicks]\n",
    "ctr_results = pd.DataFrame({\n",
    "    \"home_page_visits\": home_page_visits,\n",
    "    \"click_throughs\": clicks_throughs,\n",
    "    \"ctr\": ctr\n",
    "}, index=button_texts)\n",
    "\n",
    "ctr_results['ctr'] = ctr_results.click_throughs/ctr_results.home_page_visits\n",
    "\n",
    "ctr_results.sort_values('ctr', ascending=False)"
   ]
  },
  {
   "cell_type": "code",
   "execution_count": 99,
   "id": "be2a70e4-b478-46ed-a1fd-017d78e99faf",
   "metadata": {},
   "outputs": [
    {
     "data": {
      "text/html": [
       "<div>\n",
       "<style scoped>\n",
       "    .dataframe tbody tr th:only-of-type {\n",
       "        vertical-align: middle;\n",
       "    }\n",
       "\n",
       "    .dataframe tbody tr th {\n",
       "        vertical-align: top;\n",
       "    }\n",
       "\n",
       "    .dataframe thead th {\n",
       "        text-align: right;\n",
       "    }\n",
       "</style>\n",
       "<table border=\"1\" class=\"dataframe\">\n",
       "  <thead>\n",
       "    <tr style=\"text-align: right;\">\n",
       "      <th></th>\n",
       "      <th>Interact</th>\n",
       "      <th>Connect</th>\n",
       "      <th>Learn</th>\n",
       "      <th>Help</th>\n",
       "      <th>Services</th>\n",
       "    </tr>\n",
       "  </thead>\n",
       "  <tbody>\n",
       "    <tr>\n",
       "      <th>No-click</th>\n",
       "      <td>10241.0</td>\n",
       "      <td>2689.0</td>\n",
       "      <td>2726.0</td>\n",
       "      <td>3142.0</td>\n",
       "      <td>2019.0</td>\n",
       "    </tr>\n",
       "    <tr>\n",
       "      <th>Click</th>\n",
       "      <td>42.0</td>\n",
       "      <td>53.0</td>\n",
       "      <td>21.0</td>\n",
       "      <td>38.0</td>\n",
       "      <td>45.0</td>\n",
       "    </tr>\n",
       "  </tbody>\n",
       "</table>\n",
       "</div>"
      ],
      "text/plain": [
       "          Interact  Connect   Learn    Help  Services\n",
       "No-click   10241.0   2689.0  2726.0  3142.0    2019.0\n",
       "Click         42.0     53.0    21.0    38.0      45.0"
      ]
     },
     "execution_count": 99,
     "metadata": {},
     "output_type": "execute_result"
    }
   ],
   "source": [
    "contingency_table = ctr_results.T.drop('ctr')\n",
    "contingency_table.rename({'click_throughs': 'Click', 'home_page_visits': 'No-click'}, inplace=True)\n",
    "\n",
    "contingency_table.loc['No-click'] = contingency_table.loc['No-click'] - contingency_table.loc['Click']\n",
    "contingency_table"
   ]
  },
  {
   "cell_type": "code",
   "execution_count": 112,
   "id": "667ea9ab-ba7a-4dbc-af10-e865aa880546",
   "metadata": {},
   "outputs": [
    {
     "name": "stdout",
     "output_type": "stream",
     "text": [
      "          Interact  Connect   Learn    Help  Services\n",
      "No-click   10241.0   2689.0  2726.0  3142.0    2019.0\n",
      "Click         42.0     53.0    21.0    38.0      45.0\n",
      "\n",
      "\n",
      "chisq: 96.7432353798328\n",
      "pvalue: 4.852334301093838e-20\n",
      "df: 4\n",
      "expected:\n",
      " [[10185.6305196   2716.03606776  2720.98872288  3149.88865626\n",
      "   2044.4560335 ]\n",
      " [   97.3694804     25.96393224    26.01127712    30.11134374\n",
      "     19.5439665 ]]\n"
     ]
    }
   ],
   "source": [
    "chisq, pvalue, df, expected = stats.chi2_contingency(contingency_table)\n",
    "print(contingency_table)\n",
    "print('\\n')\n",
    "print('chisq:', chisq)\n",
    "print('pvalue:', pvalue)\n",
    "print('df:', df)\n",
    "print('expected:\\n', expected)"
   ]
  },
  {
   "cell_type": "code",
   "execution_count": 113,
   "id": "e68fc0b3-3b45-4fc8-8059-0cc6bc7fed6a",
   "metadata": {},
   "outputs": [
    {
     "name": "stdout",
     "output_type": "stream",
     "text": [
      "          Connect   Learn    Help  Services\n",
      "No-click   2689.0  2726.0  3142.0    2019.0\n",
      "Click        53.0    21.0    38.0      45.0\n",
      "\n",
      "\n",
      "chisq: 22.450979530401828\n",
      "pvalue: 5.25509870228566e-05\n",
      "df: 3\n",
      "expected:\n",
      " [[2701.89061772 2706.8174788  3133.48364856 2033.80825491]\n",
      " [  40.10938228   40.1825212    46.51635144   30.19174509]]\n"
     ]
    }
   ],
   "source": [
    "contingency_table_2 = contingency_table.drop('Interact', axis=1, errors='ignore')\n",
    "chisq, pvalue, df, expected = stats.chi2_contingency(contingency_table_2)\n",
    "print(contingency_table_2)\n",
    "print('\\n')\n",
    "print('chisq:', chisq)\n",
    "print('pvalue:', pvalue)\n",
    "print('df:', df)\n",
    "print('expected:\\n', expected)"
   ]
  },
  {
   "cell_type": "code",
   "execution_count": 114,
   "id": "00316fab-1f05-45a7-8889-07cd9eb049b8",
   "metadata": {},
   "outputs": [
    {
     "name": "stdout",
     "output_type": "stream",
     "text": [
      "          Connect    Help  Services\n",
      "No-click   2689.0  3142.0    2019.0\n",
      "Click        53.0    38.0      45.0\n",
      "\n",
      "\n",
      "chisq: 8.576830710947847\n",
      "pvalue: 0.013726659948517534\n",
      "df: 2\n",
      "expected:\n",
      " [[2695.30428249 3125.84522915 2028.85048835]\n",
      " [  46.69571751   54.15477085   35.14951165]]\n"
     ]
    }
   ],
   "source": [
    "contingency_table_3 = contingency_table_2.drop('Learn', axis=1, errors='ignore')\n",
    "chisq, pvalue, df, expected = stats.chi2_contingency(contingency_table_3)\n",
    "print(contingency_table_3)\n",
    "print('\\n')\n",
    "print('chisq:', chisq)\n",
    "print('pvalue:', pvalue)\n",
    "print('df:', df)\n",
    "print('expected:\\n', expected)"
   ]
  },
  {
   "cell_type": "markdown",
   "id": "15db83e0-9988-4eb3-b05c-1c8a698d7729",
   "metadata": {},
   "source": [
    "Services and Connect show the best CTR values. Services has a far lower Drop-Off Rate and Homepage Return Rate (see course material). \n",
    "Therefore, Services is the best choice of button text."
   ]
  },
  {
   "cell_type": "code",
   "execution_count": null,
   "id": "3ad6cb74-c350-4d5d-b74f-8a0106c8da98",
   "metadata": {},
   "outputs": [],
   "source": []
  }
 ],
 "metadata": {
  "kernelspec": {
   "display_name": "Python 3 (ipykernel)",
   "language": "python",
   "name": "python3"
  },
  "language_info": {
   "codemirror_mode": {
    "name": "ipython",
    "version": 3
   },
   "file_extension": ".py",
   "mimetype": "text/x-python",
   "name": "python",
   "nbconvert_exporter": "python",
   "pygments_lexer": "ipython3",
   "version": "3.8.8"
  }
 },
 "nbformat": 4,
 "nbformat_minor": 5
}
