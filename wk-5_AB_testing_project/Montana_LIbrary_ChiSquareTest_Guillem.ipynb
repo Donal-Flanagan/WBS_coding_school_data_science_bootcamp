{
 "cells": [
  {
   "cell_type": "markdown",
   "metadata": {},
   "source": [
    "## A / B Testing\n",
    "\n",
    "Running a Chi square test with data from the Library of Montana University\n",
    "\n",
    "Resampling approach + scipy approach"
   ]
  },
  {
   "cell_type": "markdown",
   "metadata": {},
   "source": [
    "### Data reading\n",
    "\n",
    "The important pieces of information (clicks on each element of interest & visits on each page) are scattered around. Let's collect them:"
   ]
  },
  {
   "cell_type": "code",
   "execution_count": 11,
   "metadata": {},
   "outputs": [],
   "source": [
    "import pandas as pd\n",
    "pd.set_option(\"max_colwidth\", 1000)\n",
    "pd.set_option(\"max_rows\", 1000)\n",
    "\n",
    "file_names = {\n",
    "    \"interact\": \"Homepage Version 1 - Interact, 5-29-2013\",\n",
    "    \"connect\": \"Homepage Version 2 - Connect, 5-29-2013\",\n",
    "    \"learn\": \"Homepage Version 3 - Learn, 5-29-2013\",\n",
    "    \"help\": \"Homepage Version 4 - Help, 5-29-2013\",\n",
    "    \"services\": \"Homepage Version 5 - Services, 5-29-2013\",\n",
    "}\n",
    "\n",
    "# read data\n",
    "path = '../data/CrazyEgg/'\n",
    "v1 = pd.read_csv(path + file_names['interact'] + f\"/Element list {file_names['interact']}.csv\")\n",
    "v2 = pd.read_csv(path + file_names['connect'] + f\"/Element list {file_names['connect']}.csv\")\n",
    "v3 = pd.read_csv(path + file_names['learn'] + f\"/Element list {file_names['learn']}.csv\")\n",
    "v4 = pd.read_csv(path + file_names['help'] + f\"/Element list {file_names['help']}.csv\")\n",
    "v5 = pd.read_csv(path + file_names['services'] + f\"/Element list {file_names['services']}.csv\")"
   ]
  },
  {
   "cell_type": "code",
   "execution_count": 12,
   "metadata": {},
   "outputs": [],
   "source": [
    "# clicks on each element\n",
    "v1_clicks = int(v1.loc[v1[\"Name\"]==\"INTERACT\"][\"No. clicks\"])\n",
    "v2_clicks = int(v2.loc[v2[\"Name\"]==\"CONNECT\"][\"No. clicks\"])\n",
    "v3_clicks = int(v3.loc[v3[\"Name\"]==\"LEARN\"][\"No. clicks\"])\n",
    "v4_clicks = int(v4.loc[v4[\"Name\"]==\"HELP\"][\"No. clicks\"])\n",
    "v5_clicks = int(v5.loc[v5[\"Name\"]==\"SERVICES\"][\"No. clicks\"])"
   ]
  },
  {
   "cell_type": "code",
   "execution_count": 13,
   "metadata": {},
   "outputs": [
    {
     "name": "stdout",
     "output_type": "stream",
     "text": [
      "42 53 21 38 45\n"
     ]
    }
   ],
   "source": [
    "print(v1_clicks, v2_clicks, v3_clicks, v4_clicks, v5_clicks)"
   ]
  },
  {
   "cell_type": "code",
   "execution_count": 14,
   "metadata": {},
   "outputs": [],
   "source": [
    "# visits on each page (they are in the last column of the second row, we read them manually)\n",
    "v1_visits = 10283\n",
    "v2_visits = 2742\n",
    "v3_visits = 2747\n",
    "v4_visits = 3180\n",
    "v5_visits = 2064"
   ]
  },
  {
   "cell_type": "markdown",
   "metadata": {},
   "source": [
    "#### Click Through rate\n",
    "\n",
    "Defined as clicks / visits"
   ]
  },
  {
   "cell_type": "code",
   "execution_count": 15,
   "metadata": {},
   "outputs": [],
   "source": [
    "# click-through rates\n",
    "interact_rate = float(v1_clicks / v1_visits)\n",
    "connect_rate = float(v2_clicks / v2_visits)\n",
    "learn_rate = float(v3_clicks / v3_visits)\n",
    "help_rate = float(v4_clicks / v4_visits)\n",
    "services_rate = float(v5_clicks / v5_visits)"
   ]
  },
  {
   "cell_type": "code",
   "execution_count": 16,
   "metadata": {},
   "outputs": [
    {
     "data": {
      "text/html": [
       "<div>\n",
       "<style scoped>\n",
       "    .dataframe tbody tr th:only-of-type {\n",
       "        vertical-align: middle;\n",
       "    }\n",
       "\n",
       "    .dataframe tbody tr th {\n",
       "        vertical-align: top;\n",
       "    }\n",
       "\n",
       "    .dataframe thead th {\n",
       "        text-align: right;\n",
       "    }\n",
       "</style>\n",
       "<table border=\"1\" class=\"dataframe\">\n",
       "  <thead>\n",
       "    <tr style=\"text-align: right;\">\n",
       "      <th></th>\n",
       "      <th>rates</th>\n",
       "      <th>names</th>\n",
       "    </tr>\n",
       "  </thead>\n",
       "  <tbody>\n",
       "    <tr>\n",
       "      <th>0</th>\n",
       "      <td>0.004084</td>\n",
       "      <td>Interact</td>\n",
       "    </tr>\n",
       "    <tr>\n",
       "      <th>2</th>\n",
       "      <td>0.007645</td>\n",
       "      <td>Learn</td>\n",
       "    </tr>\n",
       "    <tr>\n",
       "      <th>3</th>\n",
       "      <td>0.011950</td>\n",
       "      <td>Help</td>\n",
       "    </tr>\n",
       "    <tr>\n",
       "      <th>1</th>\n",
       "      <td>0.019329</td>\n",
       "      <td>Connect</td>\n",
       "    </tr>\n",
       "    <tr>\n",
       "      <th>4</th>\n",
       "      <td>0.021802</td>\n",
       "      <td>Services</td>\n",
       "    </tr>\n",
       "  </tbody>\n",
       "</table>\n",
       "</div>"
      ],
      "text/plain": [
       "      rates     names\n",
       "0  0.004084  Interact\n",
       "2  0.007645     Learn\n",
       "3  0.011950      Help\n",
       "1  0.019329   Connect\n",
       "4  0.021802  Services"
      ]
     },
     "execution_count": 16,
     "metadata": {},
     "output_type": "execute_result"
    }
   ],
   "source": [
    "# CTR from worst to best\n",
    "rates = pd.Series([interact_rate, connect_rate, learn_rate, help_rate, services_rate])\n",
    "names = pd.Series([\"Interact\", \"Connect\", \"Learn\", \"Help\", \"Services\"])\n",
    "\n",
    "pd.DataFrame({\"rates\":rates, \"names\":names}).sort_values(\"rates\")"
   ]
  },
  {
   "cell_type": "markdown",
   "metadata": {},
   "source": [
    "#### Contingency table\n",
    "\n",
    "For observed values. We note clicks and no-clicks (defined as visits - clicks)"
   ]
  },
  {
   "cell_type": "code",
   "execution_count": 17,
   "metadata": {},
   "outputs": [],
   "source": [
    "# no-clicks\n",
    "v1_noclick = v1_visits - v1_clicks\n",
    "v2_noclick = v2_visits - v2_clicks\n",
    "v3_noclick = v3_visits - v3_clicks\n",
    "v4_noclick = v4_visits - v4_clicks\n",
    "v5_noclick = v5_visits - v5_clicks"
   ]
  },
  {
   "cell_type": "code",
   "execution_count": 18,
   "metadata": {},
   "outputs": [
    {
     "data": {
      "text/html": [
       "<div>\n",
       "<style scoped>\n",
       "    .dataframe tbody tr th:only-of-type {\n",
       "        vertical-align: middle;\n",
       "    }\n",
       "\n",
       "    .dataframe tbody tr th {\n",
       "        vertical-align: top;\n",
       "    }\n",
       "\n",
       "    .dataframe thead th {\n",
       "        text-align: right;\n",
       "    }\n",
       "</style>\n",
       "<table border=\"1\" class=\"dataframe\">\n",
       "  <thead>\n",
       "    <tr style=\"text-align: right;\">\n",
       "      <th></th>\n",
       "      <th>Interact</th>\n",
       "      <th>Connect</th>\n",
       "      <th>Learn</th>\n",
       "      <th>Help</th>\n",
       "      <th>Services</th>\n",
       "    </tr>\n",
       "  </thead>\n",
       "  <tbody>\n",
       "    <tr>\n",
       "      <th>Click</th>\n",
       "      <td>42</td>\n",
       "      <td>53</td>\n",
       "      <td>21</td>\n",
       "      <td>38</td>\n",
       "      <td>45</td>\n",
       "    </tr>\n",
       "    <tr>\n",
       "      <th>No-click</th>\n",
       "      <td>10241</td>\n",
       "      <td>2689</td>\n",
       "      <td>2726</td>\n",
       "      <td>3142</td>\n",
       "      <td>2019</td>\n",
       "    </tr>\n",
       "  </tbody>\n",
       "</table>\n",
       "</div>"
      ],
      "text/plain": [
       "          Interact  Connect  Learn  Help  Services\n",
       "Click           42       53     21    38        45\n",
       "No-click     10241     2689   2726  3142      2019"
      ]
     },
     "execution_count": 18,
     "metadata": {},
     "output_type": "execute_result"
    }
   ],
   "source": [
    "# contingency table as a pd.DataFrame creation\n",
    "clicks = pd.Series([v1_clicks, v2_clicks, v3_clicks, v4_clicks, v5_clicks])\n",
    "noclicks = pd.Series([v1_noclick, v2_noclick, v3_noclick, v4_noclick, v5_noclick])\n",
    "\n",
    "observed = pd.DataFrame(data = [clicks, noclicks])\n",
    "observed.columns = [\"Interact\", \"Connect\", \"Learn\", \"Help\", \"Services\"]\n",
    "observed.index = [\"Click\", \"No-click\"]\n",
    "\n",
    "observed"
   ]
  },
  {
   "cell_type": "markdown",
   "metadata": {},
   "source": [
    "## Resampling approach"
   ]
  },
  {
   "cell_type": "code",
   "execution_count": 19,
   "metadata": {},
   "outputs": [
    {
     "name": "stdout",
     "output_type": "stream",
     "text": [
      "clicks: 199 |  visits: 21016\n"
     ]
    },
    {
     "data": {
      "text/plain": [
       "0.009468976018271793"
      ]
     },
     "execution_count": 19,
     "metadata": {},
     "output_type": "execute_result"
    }
   ],
   "source": [
    "visits = [v1_visits, v2_visits, v3_visits, v4_visits, v5_visits]\n",
    "\n",
    "overall_clicks = clicks.sum()\n",
    "overall_visits = sum(visits)\n",
    "print(\"clicks:\", overall_clicks, \"|  visits:\", overall_visits)\n",
    "\n",
    "# expected click-through rate\n",
    "expected_CTR = overall_clicks / overall_visits\n",
    "expected_CTR"
   ]
  },
  {
   "cell_type": "code",
   "execution_count": 20,
   "metadata": {},
   "outputs": [],
   "source": [
    "# expected clicks per version\n",
    "v1_exp_clicks = v1_visits * expected_CTR\n",
    "v2_exp_clicks = v2_visits * expected_CTR\n",
    "v3_exp_clicks = v3_visits * expected_CTR\n",
    "v4_exp_clicks = v4_visits * expected_CTR\n",
    "v5_exp_clicks = v5_visits * expected_CTR"
   ]
  },
  {
   "cell_type": "code",
   "execution_count": 21,
   "metadata": {},
   "outputs": [],
   "source": [
    "# expected no clicks per version\n",
    "v1_exp_noclick = v1_visits - v1_exp_clicks\n",
    "v2_exp_noclick = v2_visits - v2_exp_clicks\n",
    "v3_exp_noclick = v3_visits - v3_exp_clicks\n",
    "v4_exp_noclick = v4_visits - v4_exp_clicks\n",
    "v5_exp_noclick = v5_visits - v5_exp_clicks"
   ]
  },
  {
   "cell_type": "code",
   "execution_count": 22,
   "metadata": {},
   "outputs": [
    {
     "data": {
      "text/html": [
       "<div>\n",
       "<style scoped>\n",
       "    .dataframe tbody tr th:only-of-type {\n",
       "        vertical-align: middle;\n",
       "    }\n",
       "\n",
       "    .dataframe tbody tr th {\n",
       "        vertical-align: top;\n",
       "    }\n",
       "\n",
       "    .dataframe thead th {\n",
       "        text-align: right;\n",
       "    }\n",
       "</style>\n",
       "<table border=\"1\" class=\"dataframe\">\n",
       "  <thead>\n",
       "    <tr style=\"text-align: right;\">\n",
       "      <th></th>\n",
       "      <th>Interact</th>\n",
       "      <th>Connect</th>\n",
       "      <th>Learn</th>\n",
       "      <th>Help</th>\n",
       "      <th>Services</th>\n",
       "    </tr>\n",
       "  </thead>\n",
       "  <tbody>\n",
       "    <tr>\n",
       "      <th>Click</th>\n",
       "      <td>97.36948</td>\n",
       "      <td>25.963932</td>\n",
       "      <td>26.011277</td>\n",
       "      <td>30.111344</td>\n",
       "      <td>19.543967</td>\n",
       "    </tr>\n",
       "    <tr>\n",
       "      <th>No-click</th>\n",
       "      <td>10185.63052</td>\n",
       "      <td>2716.036068</td>\n",
       "      <td>2720.988723</td>\n",
       "      <td>3149.888656</td>\n",
       "      <td>2044.456033</td>\n",
       "    </tr>\n",
       "  </tbody>\n",
       "</table>\n",
       "</div>"
      ],
      "text/plain": [
       "             Interact      Connect        Learn         Help     Services\n",
       "Click        97.36948    25.963932    26.011277    30.111344    19.543967\n",
       "No-click  10185.63052  2716.036068  2720.988723  3149.888656  2044.456033"
      ]
     },
     "execution_count": 22,
     "metadata": {},
     "output_type": "execute_result"
    }
   ],
   "source": [
    "# contingency table for expected values\n",
    "exp_clicks = pd.Series([v1_exp_clicks, \n",
    "                        v2_exp_clicks, \n",
    "                        v3_exp_clicks, \n",
    "                        v4_exp_clicks, \n",
    "                        v5_exp_clicks])\n",
    "\n",
    "exp_noclicks = pd.Series([v1_exp_noclick,\n",
    "                          v2_exp_noclick, \n",
    "                          v3_exp_noclick, \n",
    "                          v4_exp_noclick, \n",
    "                          v5_exp_noclick])\n",
    "\n",
    "expected = pd.DataFrame(data = [exp_clicks, exp_noclicks])\n",
    "expected.columns = [\"Interact\", \"Connect\", \"Learn\", \"Help\", \"Services\"]\n",
    "expected.index = [\"Click\", \"No-click\"]\n",
    "\n",
    "expected"
   ]
  },
  {
   "cell_type": "markdown",
   "metadata": {},
   "source": [
    "The expected values show the same expected ratio of click to no-click for each test but the numbers are different because the number of page visits is different for each test."
   ]
  },
  {
   "cell_type": "code",
   "execution_count": 23,
   "metadata": {
    "tags": []
   },
   "outputs": [
    {
     "data": {
      "text/html": [
       "<div>\n",
       "<style scoped>\n",
       "    .dataframe tbody tr th:only-of-type {\n",
       "        vertical-align: middle;\n",
       "    }\n",
       "\n",
       "    .dataframe tbody tr th {\n",
       "        vertical-align: top;\n",
       "    }\n",
       "\n",
       "    .dataframe thead th {\n",
       "        text-align: right;\n",
       "    }\n",
       "</style>\n",
       "<table border=\"1\" class=\"dataframe\">\n",
       "  <thead>\n",
       "    <tr style=\"text-align: right;\">\n",
       "      <th></th>\n",
       "      <th>Interact</th>\n",
       "      <th>Connect</th>\n",
       "      <th>Learn</th>\n",
       "      <th>Help</th>\n",
       "      <th>Services</th>\n",
       "    </tr>\n",
       "  </thead>\n",
       "  <tbody>\n",
       "    <tr>\n",
       "      <th>Click</th>\n",
       "      <td>97.0</td>\n",
       "      <td>26.0</td>\n",
       "      <td>26.0</td>\n",
       "      <td>30.0</td>\n",
       "      <td>20.0</td>\n",
       "    </tr>\n",
       "    <tr>\n",
       "      <th>No-click</th>\n",
       "      <td>10186.0</td>\n",
       "      <td>2716.0</td>\n",
       "      <td>2721.0</td>\n",
       "      <td>3150.0</td>\n",
       "      <td>2044.0</td>\n",
       "    </tr>\n",
       "  </tbody>\n",
       "</table>\n",
       "</div>"
      ],
      "text/plain": [
       "          Interact  Connect   Learn    Help  Services\n",
       "Click         97.0     26.0    26.0    30.0      20.0\n",
       "No-click   10186.0   2716.0  2721.0  3150.0    2044.0"
      ]
     },
     "execution_count": 23,
     "metadata": {},
     "output_type": "execute_result"
    }
   ],
   "source": [
    "expected.round()"
   ]
  },
  {
   "cell_type": "code",
   "execution_count": 24,
   "metadata": {},
   "outputs": [
    {
     "data": {
      "text/html": [
       "<div>\n",
       "<style scoped>\n",
       "    .dataframe tbody tr th:only-of-type {\n",
       "        vertical-align: middle;\n",
       "    }\n",
       "\n",
       "    .dataframe tbody tr th {\n",
       "        vertical-align: top;\n",
       "    }\n",
       "\n",
       "    .dataframe thead th {\n",
       "        text-align: right;\n",
       "    }\n",
       "</style>\n",
       "<table border=\"1\" class=\"dataframe\">\n",
       "  <thead>\n",
       "    <tr style=\"text-align: right;\">\n",
       "      <th></th>\n",
       "      <th>Interact</th>\n",
       "      <th>Connect</th>\n",
       "      <th>Learn</th>\n",
       "      <th>Help</th>\n",
       "      <th>Services</th>\n",
       "    </tr>\n",
       "  </thead>\n",
       "  <tbody>\n",
       "    <tr>\n",
       "      <th>Click</th>\n",
       "      <td>42</td>\n",
       "      <td>53</td>\n",
       "      <td>21</td>\n",
       "      <td>38</td>\n",
       "      <td>45</td>\n",
       "    </tr>\n",
       "    <tr>\n",
       "      <th>No-click</th>\n",
       "      <td>10241</td>\n",
       "      <td>2689</td>\n",
       "      <td>2726</td>\n",
       "      <td>3142</td>\n",
       "      <td>2019</td>\n",
       "    </tr>\n",
       "  </tbody>\n",
       "</table>\n",
       "</div>"
      ],
      "text/plain": [
       "          Interact  Connect  Learn  Help  Services\n",
       "Click           42       53     21    38        45\n",
       "No-click     10241     2689   2726  3142      2019"
      ]
     },
     "execution_count": 24,
     "metadata": {},
     "output_type": "execute_result"
    }
   ],
   "source": [
    "observed"
   ]
  },
  {
   "cell_type": "markdown",
   "metadata": {},
   "source": [
    "Function to compute the pearson residuals. Measures the extent to which the actual counts differ from the expected counts."
   ]
  },
  {
   "cell_type": "code",
   "execution_count": 25,
   "metadata": {},
   "outputs": [],
   "source": [
    "import numpy as np\n",
    "def pearson_residuals(obs, exp):\n",
    "    return (obs - exp) / (np.sqrt(exp))"
   ]
  },
  {
   "cell_type": "code",
   "execution_count": 26,
   "metadata": {},
   "outputs": [
    {
     "data": {
      "text/html": [
       "<div>\n",
       "<style scoped>\n",
       "    .dataframe tbody tr th:only-of-type {\n",
       "        vertical-align: middle;\n",
       "    }\n",
       "\n",
       "    .dataframe tbody tr th {\n",
       "        vertical-align: top;\n",
       "    }\n",
       "\n",
       "    .dataframe thead th {\n",
       "        text-align: right;\n",
       "    }\n",
       "</style>\n",
       "<table border=\"1\" class=\"dataframe\">\n",
       "  <thead>\n",
       "    <tr style=\"text-align: right;\">\n",
       "      <th></th>\n",
       "      <th>Interact</th>\n",
       "      <th>Connect</th>\n",
       "      <th>Learn</th>\n",
       "      <th>Help</th>\n",
       "      <th>Services</th>\n",
       "    </tr>\n",
       "  </thead>\n",
       "  <tbody>\n",
       "    <tr>\n",
       "      <th>Click</th>\n",
       "      <td>-5.611242</td>\n",
       "      <td>5.305891</td>\n",
       "      <td>-0.982579</td>\n",
       "      <td>1.437600</td>\n",
       "      <td>5.758169</td>\n",
       "    </tr>\n",
       "    <tr>\n",
       "      <th>No-click</th>\n",
       "      <td>0.548626</td>\n",
       "      <td>-0.518771</td>\n",
       "      <td>0.096069</td>\n",
       "      <td>-0.140558</td>\n",
       "      <td>-0.562992</td>\n",
       "    </tr>\n",
       "  </tbody>\n",
       "</table>\n",
       "</div>"
      ],
      "text/plain": [
       "          Interact   Connect     Learn      Help  Services\n",
       "Click    -5.611242  5.305891 -0.982579  1.437600  5.758169\n",
       "No-click  0.548626 -0.518771  0.096069 -0.140558 -0.562992"
      ]
     },
     "execution_count": 26,
     "metadata": {},
     "output_type": "execute_result"
    }
   ],
   "source": [
    "# observed chi statistic\n",
    "R = pearson_residuals(observed, expected) # pearson residuals\n",
    "R"
   ]
  },
  {
   "cell_type": "code",
   "execution_count": 28,
   "metadata": {},
   "outputs": [
    {
     "data": {
      "text/html": [
       "<div>\n",
       "<style scoped>\n",
       "    .dataframe tbody tr th:only-of-type {\n",
       "        vertical-align: middle;\n",
       "    }\n",
       "\n",
       "    .dataframe tbody tr th {\n",
       "        vertical-align: top;\n",
       "    }\n",
       "\n",
       "    .dataframe thead th {\n",
       "        text-align: right;\n",
       "    }\n",
       "</style>\n",
       "<table border=\"1\" class=\"dataframe\">\n",
       "  <thead>\n",
       "    <tr style=\"text-align: right;\">\n",
       "      <th></th>\n",
       "      <th>Interact</th>\n",
       "      <th>Connect</th>\n",
       "      <th>Learn</th>\n",
       "      <th>Help</th>\n",
       "      <th>Services</th>\n",
       "    </tr>\n",
       "  </thead>\n",
       "  <tbody>\n",
       "    <tr>\n",
       "      <th>Click</th>\n",
       "      <td>991.370718</td>\n",
       "      <td>792.561863</td>\n",
       "      <td>0.932117</td>\n",
       "      <td>4.271219</td>\n",
       "      <td>1099.353886</td>\n",
       "    </tr>\n",
       "    <tr>\n",
       "      <th>No-click</th>\n",
       "      <td>0.090595</td>\n",
       "      <td>0.072427</td>\n",
       "      <td>0.000085</td>\n",
       "      <td>0.000390</td>\n",
       "      <td>0.100463</td>\n",
       "    </tr>\n",
       "  </tbody>\n",
       "</table>\n",
       "</div>"
      ],
      "text/plain": [
       "            Interact     Connect     Learn      Help     Services\n",
       "Click     991.370718  792.561863  0.932117  4.271219  1099.353886\n",
       "No-click    0.090595    0.072427  0.000085  0.000390     0.100463"
      ]
     },
     "execution_count": 28,
     "metadata": {},
     "output_type": "execute_result"
    }
   ],
   "source": [
    "R = R**2 # pearson residuals squared\n",
    "R"
   ]
  },
  {
   "cell_type": "code",
   "execution_count": 29,
   "metadata": {},
   "outputs": [
    {
     "data": {
      "text/plain": [
       "2888.753764499187"
      ]
     },
     "execution_count": 29,
     "metadata": {},
     "output_type": "execute_result"
    }
   ],
   "source": [
    "chi2observed = R.sum().sum() # sum of squared pearson residuals\n",
    "chi2observed"
   ]
  },
  {
   "cell_type": "code",
   "execution_count": 30,
   "metadata": {},
   "outputs": [
    {
     "data": {
      "text/plain": [
       "20817"
      ]
     },
     "execution_count": 30,
     "metadata": {},
     "output_type": "execute_result"
    }
   ],
   "source": [
    "overall_noclicks = overall_visits - overall_clicks\n",
    "overall_noclicks"
   ]
  },
  {
   "cell_type": "markdown",
   "metadata": {},
   "source": [
    "We create a \"box\" with as many clicks as we got over all pages, represented as 1's, and as many no-clicks as we got represented as 0's."
   ]
  },
  {
   "cell_type": "code",
   "execution_count": 35,
   "metadata": {},
   "outputs": [],
   "source": [
    "import random\n",
    "box = [1] * overall_clicks\n",
    "box.extend([0]*overall_noclicks)\n",
    "random.shuffle(box)\n",
    "#print(box)"
   ]
  },
  {
   "cell_type": "markdown",
   "metadata": {},
   "source": [
    "We run the test many times and count how many times the chi square statistic is greater than the observed (i.e. how many times something more extreme happens by chance)."
   ]
  },
  {
   "cell_type": "code",
   "execution_count": 36,
   "metadata": {},
   "outputs": [
    {
     "data": {
      "text/plain": [
       "0.0"
      ]
     },
     "execution_count": 36,
     "metadata": {},
     "output_type": "execute_result"
    }
   ],
   "source": [
    "chi_scores = []\n",
    "visits = [v1_visits, v2_visits, v3_visits, v4_visits, v5_visits]\n",
    "\n",
    "for sim in range(1000):\n",
    "    sample_clicks = [sum(random.sample(population=box, k=v)) for v in visits]\n",
    "    sample_noclicks = [visits[i] - sample_clicks[i] for i in range(5)]\n",
    "\n",
    "    observed_ = pd.DataFrame([sample_clicks, sample_noclicks],\n",
    "                             columns = [\"Interact\", \"Connect\", \"Learn\", \"Help\", \"Services\"],\n",
    "                             index = [\"Click\", \"No-click\"])\n",
    "\n",
    "    R = pearson_residuals(observed_, expected)\n",
    "    R = R**2\n",
    "\n",
    "    chi_scores.append(R.sum().sum())\n",
    "    \n",
    "resampled_p_value = sum(chi_scores >= chi2observed) / len(chi_scores)\n",
    "resampled_p_value # How many times the chi_scores were large than the observed chi_scores"
   ]
  },
  {
   "cell_type": "markdown",
   "metadata": {},
   "source": [
    "## Scipy approach"
   ]
  },
  {
   "cell_type": "code",
   "execution_count": 38,
   "metadata": {},
   "outputs": [
    {
     "data": {
      "text/html": [
       "<div>\n",
       "<style scoped>\n",
       "    .dataframe tbody tr th:only-of-type {\n",
       "        vertical-align: middle;\n",
       "    }\n",
       "\n",
       "    .dataframe tbody tr th {\n",
       "        vertical-align: top;\n",
       "    }\n",
       "\n",
       "    .dataframe thead th {\n",
       "        text-align: right;\n",
       "    }\n",
       "</style>\n",
       "<table border=\"1\" class=\"dataframe\">\n",
       "  <thead>\n",
       "    <tr style=\"text-align: right;\">\n",
       "      <th></th>\n",
       "      <th>Interact</th>\n",
       "      <th>Connect</th>\n",
       "      <th>Learn</th>\n",
       "      <th>Help</th>\n",
       "      <th>Services</th>\n",
       "    </tr>\n",
       "  </thead>\n",
       "  <tbody>\n",
       "    <tr>\n",
       "      <th>Click</th>\n",
       "      <td>42</td>\n",
       "      <td>53</td>\n",
       "      <td>21</td>\n",
       "      <td>38</td>\n",
       "      <td>45</td>\n",
       "    </tr>\n",
       "    <tr>\n",
       "      <th>No-click</th>\n",
       "      <td>10241</td>\n",
       "      <td>2689</td>\n",
       "      <td>2726</td>\n",
       "      <td>3142</td>\n",
       "      <td>2019</td>\n",
       "    </tr>\n",
       "  </tbody>\n",
       "</table>\n",
       "</div>"
      ],
      "text/plain": [
       "          Interact  Connect  Learn  Help  Services\n",
       "Click           42       53     21    38        45\n",
       "No-click     10241     2689   2726  3142      2019"
      ]
     },
     "execution_count": 38,
     "metadata": {},
     "output_type": "execute_result"
    }
   ],
   "source": [
    "observed"
   ]
  },
  {
   "cell_type": "code",
   "execution_count": 37,
   "metadata": {},
   "outputs": [
    {
     "data": {
      "text/plain": [
       "(96.7432353798328, 4.852334301093838e-20)"
      ]
     },
     "execution_count": 37,
     "metadata": {},
     "output_type": "execute_result"
    }
   ],
   "source": [
    "from scipy import stats\n",
    "chisq, pvalue, df, expected = stats.chi2_contingency(observed)\n",
    "chisq, pvalue"
   ]
  },
  {
   "cell_type": "markdown",
   "metadata": {},
   "source": [
    "## How do we decide who's the winner?\n",
    "\n",
    "Read about [Post Hoc Tests](https://alanarnholt.github.io/PDS-Bookdown2/post-hoc-tests-1.html) and find out whether we can declare a clear winner!"
   ]
  },
  {
   "cell_type": "code",
   "execution_count": 43,
   "metadata": {},
   "outputs": [
    {
     "data": {
      "text/plain": [
       "0.005"
      ]
     },
     "execution_count": 43,
     "metadata": {},
     "output_type": "execute_result"
    }
   ],
   "source": [
    "significance_level = 0.95\n",
    "p_value_threshold = 1 - significance_level\n",
    "num_comparisons = 10\n",
    "post_hoc_p_value_threshold = round(p_value_threshold / num_comparisons, 4)\n",
    "post_hoc_p_value_threshold"
   ]
  },
  {
   "cell_type": "code",
   "execution_count": 44,
   "metadata": {},
   "outputs": [
    {
     "data": {
      "text/html": [
       "<div>\n",
       "<style scoped>\n",
       "    .dataframe tbody tr th:only-of-type {\n",
       "        vertical-align: middle;\n",
       "    }\n",
       "\n",
       "    .dataframe tbody tr th {\n",
       "        vertical-align: top;\n",
       "    }\n",
       "\n",
       "    .dataframe thead th {\n",
       "        text-align: right;\n",
       "    }\n",
       "</style>\n",
       "<table border=\"1\" class=\"dataframe\">\n",
       "  <thead>\n",
       "    <tr style=\"text-align: right;\">\n",
       "      <th></th>\n",
       "      <th>comparison</th>\n",
       "      <th>p_values</th>\n",
       "      <th>Rejects null hypothesis</th>\n",
       "    </tr>\n",
       "  </thead>\n",
       "  <tbody>\n",
       "    <tr>\n",
       "      <th>3</th>\n",
       "      <td>Interact vs Services</td>\n",
       "      <td>5.719451e-18</td>\n",
       "      <td>True</td>\n",
       "    </tr>\n",
       "    <tr>\n",
       "      <th>0</th>\n",
       "      <td>Interact vs Connect</td>\n",
       "      <td>2.225033e-16</td>\n",
       "      <td>True</td>\n",
       "    </tr>\n",
       "    <tr>\n",
       "      <th>2</th>\n",
       "      <td>Interact vs Help</td>\n",
       "      <td>9.036000e-07</td>\n",
       "      <td>True</td>\n",
       "    </tr>\n",
       "    <tr>\n",
       "      <th>8</th>\n",
       "      <td>Learn vs Services</td>\n",
       "      <td>5.054100e-05</td>\n",
       "      <td>True</td>\n",
       "    </tr>\n",
       "    <tr>\n",
       "      <th>4</th>\n",
       "      <td>Connect vs Learn</td>\n",
       "      <td>2.767888e-04</td>\n",
       "      <td>True</td>\n",
       "    </tr>\n",
       "    <tr>\n",
       "      <th>9</th>\n",
       "      <td>Help vs Services</td>\n",
       "      <td>7.370912e-03</td>\n",
       "      <td>False</td>\n",
       "    </tr>\n",
       "    <tr>\n",
       "      <th>1</th>\n",
       "      <td>Interact vs Learn</td>\n",
       "      <td>2.541982e-02</td>\n",
       "      <td>False</td>\n",
       "    </tr>\n",
       "    <tr>\n",
       "      <th>5</th>\n",
       "      <td>Connect vs Help</td>\n",
       "      <td>2.808815e-02</td>\n",
       "      <td>False</td>\n",
       "    </tr>\n",
       "    <tr>\n",
       "      <th>7</th>\n",
       "      <td>Learn vs Help</td>\n",
       "      <td>1.251275e-01</td>\n",
       "      <td>False</td>\n",
       "    </tr>\n",
       "    <tr>\n",
       "      <th>6</th>\n",
       "      <td>Connect vs Services</td>\n",
       "      <td>6.188771e-01</td>\n",
       "      <td>False</td>\n",
       "    </tr>\n",
       "  </tbody>\n",
       "</table>\n",
       "</div>"
      ],
      "text/plain": [
       "             comparison      p_values  Rejects null hypothesis\n",
       "3  Interact vs Services  5.719451e-18                     True\n",
       "0   Interact vs Connect  2.225033e-16                     True\n",
       "2      Interact vs Help  9.036000e-07                     True\n",
       "8     Learn vs Services  5.054100e-05                     True\n",
       "4      Connect vs Learn  2.767888e-04                     True\n",
       "9      Help vs Services  7.370912e-03                    False\n",
       "1     Interact vs Learn  2.541982e-02                    False\n",
       "5       Connect vs Help  2.808815e-02                    False\n",
       "7         Learn vs Help  1.251275e-01                    False\n",
       "6   Connect vs Services  6.188771e-01                    False"
      ]
     },
     "execution_count": 44,
     "metadata": {},
     "output_type": "execute_result"
    }
   ],
   "source": [
    "button_texts = ['Interact', 'Connect', 'Learn', 'Help', 'Services']\n",
    "\n",
    "bonferroni_comparisons = []\n",
    "bonferroni_p_values = []\n",
    "better_than_p_value_threshold = []\n",
    "\n",
    "for i in range(5):\n",
    "    for j in range(i+1,5):\n",
    "        chisq, pvalue, df, expected = stats.chi2_contingency(observed[[button_texts[i], button_texts[j]]])\n",
    "        \n",
    "        bonferroni_comparisons.append(button_texts[i] + ' vs ' + button_texts[j])\n",
    "        bonferroni_p_values.append(pvalue)\n",
    "        better_than_p_value_threshold.append(pvalue < post_hoc_p_value_threshold)\n",
    "\n",
    "bonferroni_results = pd.DataFrame({\n",
    "    \"comparison\": bonferroni_comparisons,\n",
    "    \"p_values\": bonferroni_p_values,\n",
    "    \"Rejects null hypothesis\": better_than_p_value_threshold\n",
    "})\n",
    "bonferroni_results.sort_values('p_values')"
   ]
  },
  {
   "cell_type": "code",
   "execution_count": null,
   "metadata": {},
   "outputs": [],
   "source": []
  }
 ],
 "metadata": {
  "kernelspec": {
   "display_name": "Python 3 (ipykernel)",
   "language": "python",
   "name": "python3"
  },
  "language_info": {
   "codemirror_mode": {
    "name": "ipython",
    "version": 3
   },
   "file_extension": ".py",
   "mimetype": "text/x-python",
   "name": "python",
   "nbconvert_exporter": "python",
   "pygments_lexer": "ipython3",
   "version": "3.8.8"
  }
 },
 "nbformat": 4,
 "nbformat_minor": 4
}
