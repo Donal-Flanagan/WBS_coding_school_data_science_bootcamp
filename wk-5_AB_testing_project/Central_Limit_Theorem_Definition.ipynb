{
 "cells": [
  {
   "cell_type": "markdown",
   "id": "16f831cd-50a2-4f73-948a-9575543a4ee1",
   "metadata": {},
   "source": [
    "## Central Limit Theorem"
   ]
  },
  {
   "cell_type": "code",
   "execution_count": 6,
   "id": "23620838-d473-4aa1-823d-e373a06d73db",
   "metadata": {},
   "outputs": [
    {
     "data": {
      "image/png": "[encoded data removed]",
      "text/plain": [
       "<Figure size 432x288 with 1 Axes>"
      ]
     },
     "metadata": {
      "needs_background": "light"
     },
     "output_type": "display_data"
    }
   ],
   "source": [
    "import numpy as np\n",
    "import matplotlib.pyplot as plt\n",
    "import random\n",
    "\n",
    "'''\n",
    "We can use the random.normal() function from NumPy to generate a population of \n",
    "values with a particular standard deviation (pop_stdev) and mean (arbitrarily set \n",
    "to 10 in this example). \n",
    "We can then\n",
    "\n",
    "- take random samples of some size (samp_size) from the population\n",
    "- record the sample mean for each one\n",
    "- plot a histogram of the sample means\n",
    "'''\n",
    "\n",
    "### try changing samp_size and pop_stdev and re-running the code\n",
    "# try values of samp_size between 2 and 20\n",
    "# try values of pop_stdev between 1 and 10\n",
    "samp_size = 2\n",
    "pop_stdev = 10\n",
    "\n",
    "# population is a list containing the wages of each individual in the population\n",
    "population = np.random.normal(loc = 10, scale = pop_stdev, size = 100000)\n",
    "population = list(population)\n",
    "\n",
    "sample_means = []\n",
    " \n",
    "for i in range(10000):\n",
    "    # take a random sample of samp_size wages from the population\n",
    "    samp = random.sample(population, samp_size)\n",
    "    # store the sample mean in a list called sample_means\n",
    "    sample_means.append(np.mean(samp))\n",
    "\n",
    "# Inspect the means by plotting a histogram\n",
    "plt.hist(sample_means, bins = 30)\n",
    "plt.title('Sampling Distribution')\n",
    "plt.vlines(np.mean(sample_means), 0, 1000, lw=3, linestyles='dashed')\n",
    "# plt.xlim(-10, 30)\n",
    "\n",
    "plt.show()"
   ]
  },
  {
   "cell_type": "code",
   "execution_count": 8,
   "id": "af42d983-a85f-4073-9c20-ce85952820eb",
   "metadata": {},
   "outputs": [
    {
     "name": "stdout",
     "output_type": "stream",
     "text": [
      "The NumPy percentile() function can be used to calculate that 95% of the sample means from the above\n",
      "simulation fall in a range from 16.14 to 21.87 dollars per hour (plus or minus around 2.87 dollars\n",
      "from the mean):\n",
      "[-3.83106063 23.81974729]\n"
     ]
    }
   ],
   "source": [
    "print('The NumPy percentile() function can be used to calculate that 95% of the sample means from the above')\n",
    "print('simulation fall in a range from 16.14 to 21.87 dollars per hour (plus or minus around 2.87 dollars')\n",
    "print('from the mean):')\n",
    "percentiles = np.percentile(sample_means, [2.5, 97.5])\n",
    "print(percentiles)"
   ]
  },
  {
   "cell_type": "markdown",
   "id": "6c2da2bb-6888-4d75-a181-1a8281e3d7d8",
   "metadata": {},
   "source": [
    "## Formally defining the CLT\n",
    "It’s now time to formally define the CLT, which tells us that the sampling distribution of the mean:\n",
    "\n",
    "- is normally distributed (for large enough sample size)\n",
    "- is centered at the population mean\n",
    "- has standard deviation equal to the population standard deviation divided by the square root of the sample size. This is called Standard Error.\n",
    "With respect to the standard error formula described above, note that there are two levers on the width of the sampling distribution:\n",
    "\n",
    "#### The population standard deviation. \n",
    "Populations with more variation will yield sample means with more variation. For example, imagine sampling the heights of 5 year olds compared to sampling heights of 5-18 year olds. There is more variation in the heights of 5-18 year olds, so there will be more variation in individual samples.\n",
    "\n",
    "#### The sample size. \n",
    "The larger the sample size, the smaller the variation in repeated sample means. In the wage example above, imagine sampling only five people instead of 150. Those five sampled people could include one outlier that throws the whole sample mean off. If we sample 150 (or even more) people, we’re more likely to have high and low outliers that cancel each other out."
   ]
  },
  {
   "cell_type": "markdown",
   "id": "ce81db7d-d4d3-43f5-8b55-37ee5442cf05",
   "metadata": {},
   "source": [
    "## How does this help the data scientist?\n",
    "In real life, the data scientist is still stuck with their one sample mean as a best guess for the population mean. However, they can leverage the CLT to estimate the standard error — the amount of variation in imagined, repeated samples!\n",
    "\n",
    "Remember that the CLT tells us that the standard error (SE) can be calculated as follows:\n",
    "\n",
    "\\begin{equation*}\n",
    "SE = \\frac{PopulationStandardDeviation}{\\sqrt{SampleSize}}\n",
    "\\end{equation*}\n",
    "\n",
    "While a researcher or data scientist probably does not know the population standard deviation, they can use the standard deviation of their sample to estimate it.\n",
    "\n",
    "Let’s return to the data scientist who collected a single sample of 150 wages and calculated an average wage of 17.74 dollars. To quantify the uncertainty around this sample mean, this data scientist can first estimate the standard error:\n",
    "\n",
    "```python\n",
    "std_error = np.std(my_sample)/(150 ** 0.5)\n",
    "print(std_error)\n",
    "# output: 1.275\n",
    "```\n",
    "Then, leveraging the part of the CLT that says the sampling distribution is normally distributed, our data scientist can use a nifty property of normal distributions: 95% of normally distributed values are within about 1.96 standard deviations of the mean. This allows the data scientist to estimate the width of the sampling distribution above, without actually knowing the population distribution!\n",
    "\n",
    "First, the data scientist needs to multiply 1.275 by the estimated standard error: 1.96 * 1.275 = 2.50. The interpretation of this number is as follows:\n",
    "\n",
    "Imagine taking a large number of samples of size 150 from a population with the same amount of variation as in the observed sample.\n",
    "95% of those samples would be within about 2.50 dollars from the true population mean.\n",
    "Therefore, there is about a 95% probability that the observed sample mean of 17.74 is no more than 2.50 dollars away from the population mean. In other words, there is about a 95% probability that the population mean is between 15.24 and 20.24. This is referred to as a 95% confidence interval.\n",
    "Note that the estimate of 2.50 is similar to the value of 2.87 that we calculated as all-knowing beings with access to the full population. With only a single sample in hand, the data scientist can express the uncertainty in their sample mean fairly accurately!"
   ]
  },
  {
   "cell_type": "code",
   "execution_count": null,
   "id": "8ec46723-9e04-40d9-8f21-a578c00f1b3f",
   "metadata": {},
   "outputs": [],
   "source": []
  }
 ],
 "metadata": {
  "kernelspec": {
   "display_name": "Python 3 (ipykernel)",
   "language": "python",
   "name": "python3"
  },
  "language_info": {
   "codemirror_mode": {
    "name": "ipython",
    "version": 3
   },
   "file_extension": ".py",
   "mimetype": "text/x-python",
   "name": "python",
   "nbconvert_exporter": "python",
   "pygments_lexer": "ipython3",
   "version": "3.8.8"
  }
 },
 "nbformat": 4,
 "nbformat_minor": 5
}
