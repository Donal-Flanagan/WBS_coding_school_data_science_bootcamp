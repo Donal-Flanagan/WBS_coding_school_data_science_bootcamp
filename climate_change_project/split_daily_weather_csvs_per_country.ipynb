{
 "cells": [
  {
   "cell_type": "code",
   "execution_count": null,
   "metadata": {},
   "outputs": [],
   "source": [
    "import pandas as pd\n",
    "import numpy as np\n",
    "from pprint import pprint as pp\n",
    "from datetime import datetime\n",
    "\n",
    "pd.set_option('display.max_rows', 500)\n",
    "pd.set_option('display.max_columns', 200)"
   ]
  },
  {
   "cell_type": "code",
   "execution_count": null,
   "metadata": {},
   "outputs": [],
   "source": [
    "custom_date_parser = lambda x: datetime.strptime(x, \"%Y%m%d\")\n",
    "\n",
    "noaa_ghcnd_file_path = './data/noaa_ghcn_aws_data/'\n",
    "\n",
    "file_name = '2021'\n",
    "noaa_ghcn_aws_data_2021 = pd.read_csv(\n",
    "    f\"{noaa_ghcnd_file_path}{file_name}.csv\", \n",
    "    header=None, \n",
    "    usecols=[0,1,2,3],\n",
    "    names=['station_id', 'date', 'data_type_id', 'data_value'],#, 'measurement_id', 'quality_id', 'source_id', 'observation_time'],\n",
    "    nrows=100000, \n",
    "    parse_dates=['date'],\n",
    "    date_parser=custom_date_parser,\n",
    "    # dtype={'observation_time':str}\n",
    "    )\n",
    "#noaa_ghcn_aws_data_2021.observation_time.replace({np.nan: '0000', '2400': '0000'}, inplace=True)\n",
    "#noaa_ghcn_aws_data_2021.observation_time = pd.to_datetime(noaa_ghcn_aws_data_2021.observation_time, format='%H%M').dt.time\n",
    "\n",
    "# Extract country code from station_id\n",
    "noaa_ghcn_aws_data_2021['noaa_country_code'] = noaa_ghcn_aws_data_2021.station_id.str[:2]\n",
    "# Drop countries that are not in the fao dataset\n",
    "noaa_ghcn_aws_data_2021 = noaa_ghcn_aws_data_2021[noaa_ghcn_aws_data_2021.noaa_country_code.isin(noaa_country_codes.noaa_country_code)]\n",
    "# Drop unnecessary data types\n",
    "noaa_ghcn_aws_data_2021 = noaa_ghcn_aws_data_2021[noaa_ghcn_aws_data_2021.data_type_id.isin(data_ids_to_keep)]\n",
    "# Pivot the table.\n",
    "noaa_weather_data = noaa_ghcn_aws_data_2021.pivot(index=['noaa_country_code', 'station_id', 'date'], columns='data_type_id', values='data_value')\n",
    "# Fill in the weather type columns with zeroes because they are one-hot encoded/binary\n",
    "# weather_type_cols = noaa_weather_data.columns[noaa_weather_data.columns.str.contains('WT')]\n",
    "# noaa_weather_data[weather_type_cols] = noaa_weather_data[weather_type_cols].fillna(0)\n",
    "\n",
    "noaa_weather_data.reset_index(inplace=True)\n",
    "noaa_weather_data.head()"
   ]
  }
 ],
 "metadata": {
  "language_info": {
   "name": "python"
  },
  "orig_nbformat": 4
 },
 "nbformat": 4,
 "nbformat_minor": 2
}
