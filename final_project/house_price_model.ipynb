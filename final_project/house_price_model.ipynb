{
 "cells": [
  {
   "cell_type": "code",
   "execution_count": 1,
   "metadata": {},
   "outputs": [
    {
     "data": {
      "text/html": [
       "<div>\n",
       "<style scoped>\n",
       "    .dataframe tbody tr th:only-of-type {\n",
       "        vertical-align: middle;\n",
       "    }\n",
       "\n",
       "    .dataframe tbody tr th {\n",
       "        vertical-align: top;\n",
       "    }\n",
       "\n",
       "    .dataframe thead th {\n",
       "        text-align: right;\n",
       "    }\n",
       "</style>\n",
       "<table border=\"1\" class=\"dataframe\">\n",
       "  <thead>\n",
       "    <tr style=\"text-align: right;\">\n",
       "      <th></th>\n",
       "      <th>LotArea</th>\n",
       "      <th>TotalBsmtSF</th>\n",
       "      <th>BedroomAbvGr</th>\n",
       "      <th>GarageCars</th>\n",
       "    </tr>\n",
       "  </thead>\n",
       "  <tbody>\n",
       "    <tr>\n",
       "      <th>1008</th>\n",
       "      <td>12118</td>\n",
       "      <td>1710</td>\n",
       "      <td>3</td>\n",
       "      <td>2</td>\n",
       "    </tr>\n",
       "    <tr>\n",
       "      <th>60</th>\n",
       "      <td>13072</td>\n",
       "      <td>1158</td>\n",
       "      <td>3</td>\n",
       "      <td>2</td>\n",
       "    </tr>\n",
       "    <tr>\n",
       "      <th>671</th>\n",
       "      <td>6629</td>\n",
       "      <td>672</td>\n",
       "      <td>3</td>\n",
       "      <td>1</td>\n",
       "    </tr>\n",
       "    <tr>\n",
       "      <th>822</th>\n",
       "      <td>12394</td>\n",
       "      <td>847</td>\n",
       "      <td>3</td>\n",
       "      <td>2</td>\n",
       "    </tr>\n",
       "    <tr>\n",
       "      <th>1254</th>\n",
       "      <td>6931</td>\n",
       "      <td>746</td>\n",
       "      <td>3</td>\n",
       "      <td>2</td>\n",
       "    </tr>\n",
       "    <tr>\n",
       "      <th>...</th>\n",
       "      <td>...</td>\n",
       "      <td>...</td>\n",
       "      <td>...</td>\n",
       "      <td>...</td>\n",
       "    </tr>\n",
       "    <tr>\n",
       "      <th>986</th>\n",
       "      <td>5310</td>\n",
       "      <td>485</td>\n",
       "      <td>2</td>\n",
       "      <td>1</td>\n",
       "    </tr>\n",
       "    <tr>\n",
       "      <th>133</th>\n",
       "      <td>6853</td>\n",
       "      <td>1267</td>\n",
       "      <td>2</td>\n",
       "      <td>2</td>\n",
       "    </tr>\n",
       "    <tr>\n",
       "      <th>361</th>\n",
       "      <td>9144</td>\n",
       "      <td>883</td>\n",
       "      <td>3</td>\n",
       "      <td>1</td>\n",
       "    </tr>\n",
       "    <tr>\n",
       "      <th>1364</th>\n",
       "      <td>3180</td>\n",
       "      <td>600</td>\n",
       "      <td>2</td>\n",
       "      <td>2</td>\n",
       "    </tr>\n",
       "    <tr>\n",
       "      <th>451</th>\n",
       "      <td>70761</td>\n",
       "      <td>1533</td>\n",
       "      <td>2</td>\n",
       "      <td>2</td>\n",
       "    </tr>\n",
       "  </tbody>\n",
       "</table>\n",
       "<p>1241 rows × 4 columns</p>\n",
       "</div>"
      ],
      "text/plain": [
       "      LotArea  TotalBsmtSF  BedroomAbvGr  GarageCars\n",
       "1008    12118         1710             3           2\n",
       "60      13072         1158             3           2\n",
       "671      6629          672             3           1\n",
       "822     12394          847             3           2\n",
       "1254     6931          746             3           2\n",
       "...       ...          ...           ...         ...\n",
       "986      5310          485             2           1\n",
       "133      6853         1267             2           2\n",
       "361      9144          883             3           1\n",
       "1364     3180          600             2           2\n",
       "451     70761         1533             2           2\n",
       "\n",
       "[1241 rows x 4 columns]"
      ]
     },
     "execution_count": 1,
     "metadata": {},
     "output_type": "execute_result"
    }
   ],
   "source": [
    "# reading\n",
    "import pandas as pd\n",
    "housing = pd.read_csv(\"../data/Housing_data/housing-deployment-reg.csv\")\n",
    " \n",
    "# train test split\n",
    "from sklearn.model_selection import train_test_split\n",
    "X = housing.drop(columns=\"SalePrice\")\n",
    "y = housing[\"SalePrice\"]\n",
    "X_train, X_test, y_train, y_test = train_test_split(X, y, test_size=0.15, random_state=8)\n",
    "X_train"
   ]
  },
  {
   "cell_type": "code",
   "execution_count": 2,
   "metadata": {},
   "outputs": [
    {
     "name": "stdout",
     "output_type": "stream",
     "text": [
      "0.7222877652002777\n"
     ]
    }
   ],
   "source": [
    "# pipeline\n",
    "from sklearn.pipeline import make_pipeline\n",
    "from sklearn.impute import SimpleImputer\n",
    "from sklearn.preprocessing import StandardScaler\n",
    "from sklearn.neighbors import KNeighborsRegressor\n",
    "pipe = make_pipeline(\n",
    "        SimpleImputer(strategy='median'),\n",
    "        StandardScaler(),\n",
    "        KNeighborsRegressor())\n",
    " \n",
    "# parameter grid for pipeline\n",
    "pipe_params = {\n",
    "    'simpleimputer__strategy':['median', 'mean'],\n",
    "    'standardscaler__with_mean':[True, False],\n",
    "    'kneighborsregressor__n_neighbors': list(range(1, 20)),\n",
    "    'kneighborsregressor__weights': ['uniform', 'distance'],\n",
    "    'kneighborsregressor__p': [1, 2],\n",
    "    'kneighborsregressor__algorithm': ['ball_tree', 'kd_tree', 'brute']}\n",
    " \n",
    "# grid search\n",
    "from sklearn.model_selection import GridSearchCV\n",
    "trained_pipe = GridSearchCV(pipe,\n",
    "                            pipe_params, \n",
    "                            cv = 5)\n",
    "trained_pipe.fit(X_train, y_train)\n",
    " \n",
    "# test accuracy on the test set\n",
    "from sklearn.metrics import r2_score\n",
    " \n",
    "y_pred = trained_pipe.predict(X_test)\n",
    " \n",
    "r2 = r2_score(y_test, y_pred)\n",
    "print(r2)"
   ]
  },
  {
   "cell_type": "code",
   "execution_count": 4,
   "metadata": {},
   "outputs": [],
   "source": [
    "# store the trained pipeline\n",
    "import pickle\n",
    "pickle.dump(trained_pipe, \n",
    "            open(file='models/trained_pipe_knn.sav', \n",
    "                 mode='wb'))"
   ]
  },
  {
   "cell_type": "code",
   "execution_count": 5,
   "metadata": {},
   "outputs": [
    {
     "data": {
      "text/plain": [
       "array([211511.97887967])"
      ]
     },
     "execution_count": 5,
     "metadata": {},
     "output_type": "execute_result"
    }
   ],
   "source": [
    "# load model\n",
    "import pickle\n",
    "loaded_model = pickle.load(open('models/trained_pipe_knn.sav', 'rb'))\n",
    " \n",
    "# new house with fake data\n",
    "import pandas as pd\n",
    "new_house = pd.DataFrame({\n",
    "    'LotArea':[9000],\n",
    "    'TotalBsmtSF':[1000], \n",
    "    'BedroomAbvGr':[5], \n",
    "    'GarageCars':[4]\n",
    "})\n",
    " \n",
    "# prediction\n",
    "loaded_model.predict(new_house)"
   ]
  },
  {
   "cell_type": "code",
   "execution_count": null,
   "metadata": {},
   "outputs": [],
   "source": []
  }
 ],
 "metadata": {
  "interpreter": {
   "hash": "47ab24972efc9171bbe89c5c00a7c14223ebd571a5abd864befb583e774d717e"
  },
  "kernelspec": {
   "display_name": "Python 3.8.10 64-bit ('.venv': venv)",
   "language": "python",
   "name": "python3"
  },
  "language_info": {
   "codemirror_mode": {
    "name": "ipython",
    "version": 3
   },
   "file_extension": ".py",
   "mimetype": "text/x-python",
   "name": "python",
   "nbconvert_exporter": "python",
   "pygments_lexer": "ipython3",
   "version": "3.8.10"
  },
  "orig_nbformat": 4
 },
 "nbformat": 4,
 "nbformat_minor": 2
}
